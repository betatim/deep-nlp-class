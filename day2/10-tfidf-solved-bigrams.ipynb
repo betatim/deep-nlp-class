{
 "cells": [
  {
   "cell_type": "markdown",
   "metadata": {},
   "source": [
    "# Representing text for Machine-learning\n",
    "\n",
    "A long document made up of words is not a good representation for computers.\n",
    "\n",
    "We need to convert the text into a better representation. Here we will look at\n",
    "some baseline methods that work very well in practice. They also form the basis\n",
    "of more complicated ideas used later on. Strong baselines are important in a world\n",
    "of deep learning. You have to be able to demosntrate that the additional complexity,\n",
    "reduced explainability, and additional technical debt from using deep learning is\n",
    "worth it."
   ]
  },
  {
   "cell_type": "code",
   "execution_count": 1,
   "metadata": {},
   "outputs": [],
   "source": [
    "sentences = [\"The Uber driver behind the wheel of an autonomous car that hit \"\n",
    "             \"and killed a pedestrian in Arizona could have avoided the collision \"\n",
    "             \"if she had not been distracted, according to police investigating \"\n",
    "             \"the incident.\",\n",
    "             \"An avoidability analysis by police in Tempe, Arizona following March's\"\n",
    "             \" crash suggested that Rafaela Vasquez, Uber's safety driver, may have \"\n",
    "             \"been watching the online video service Hulu in the car.\",\n",
    "             \"The death of 49-year-old Elaine Herzberg is believed to be the first \"\n",
    "             \"time an autonomous car has killed a bystander, prompting a series of \"\n",
    "             \"investigations into what happened.\",\n",
    "            ]"
   ]
  },
  {
   "cell_type": "code",
   "execution_count": 2,
   "metadata": {},
   "outputs": [],
   "source": [
    "# create a bag of words representation of the above sentences"
   ]
  },
  {
   "cell_type": "code",
   "execution_count": 3,
   "metadata": {},
   "outputs": [],
   "source": [
    "import numpy as np\n",
    "\n",
    "word2idx = {}\n",
    "for sentence in sentences:\n",
    "    for word in sentence.split():\n",
    "        word = word.lower()\n",
    "        if word not in word2idx:\n",
    "            word2idx[word] = len(word2idx)\n",
    "\n",
    "X = np.zeros((len(sentences), len(word2idx)))\n",
    "\n",
    "for i,sentence in enumerate(sentences):\n",
    "    for word in sentence.lower().split():\n",
    "        idx = word2idx[word]\n",
    "        X[i,idx] += 1"
   ]
  },
  {
   "cell_type": "code",
   "execution_count": 4,
   "metadata": {},
   "outputs": [
    {
     "data": {
      "text/plain": [
       "array([[ 4.,  1.,  1.,  1.,  1.,  1.,  1.,  1.,  1.,  1.,  1.,  1.,  1.,\n",
       "         1.,  1.,  1.,  1.,  1.,  1.,  1.,  1.,  1.,  1.,  1.,  1.,  1.,\n",
       "         1.,  1.,  1.,  1.,  1.,  1.,  0.,  0.,  0.,  0.,  0.,  0.,  0.,\n",
       "         0.,  0.,  0.,  0.,  0.,  0.,  0.,  0.,  0.,  0.,  0.,  0.,  0.,\n",
       "         0.,  0.,  0.,  0.,  0.,  0.,  0.,  0.,  0.,  0.,  0.,  0.,  0.,\n",
       "         0.,  0.,  0.,  0.],\n",
       "       [ 2.,  0.,  0.,  0.,  0.,  0.,  1.,  0.,  0.,  1.,  0.,  0.,  0.,\n",
       "         0.,  0.,  2.,  1.,  0.,  1.,  0.,  0.,  0.,  0.,  0.,  0.,  1.,\n",
       "         0.,  0.,  0.,  1.,  0.,  0.,  1.,  1.,  1.,  1.,  1.,  1.,  1.,\n",
       "         1.,  1.,  1.,  1.,  1.,  1.,  1.,  1.,  1.,  1.,  1.,  1.,  1.,\n",
       "         0.,  0.,  0.,  0.,  0.,  0.,  0.,  0.,  0.,  0.,  0.,  0.,  0.,\n",
       "         0.,  0.,  0.,  0.],\n",
       "       [ 2.,  0.,  0.,  0.,  0.,  2.,  1.,  1.,  1.,  0.,  0.,  0.,  1.,\n",
       "         2.,  0.,  0.,  0.,  0.,  0.,  0.,  0.,  0.,  0.,  0.,  0.,  0.,\n",
       "         0.,  0.,  1.,  0.,  0.,  0.,  0.,  0.,  0.,  0.,  0.,  0.,  0.,\n",
       "         0.,  0.,  0.,  0.,  0.,  0.,  0.,  0.,  0.,  0.,  0.,  0.,  0.,\n",
       "         1.,  1.,  1.,  1.,  1.,  1.,  1.,  1.,  1.,  1.,  1.,  1.,  1.,\n",
       "         1.,  1.,  1.,  1.]])"
      ]
     },
     "execution_count": 4,
     "metadata": {},
     "output_type": "execute_result"
    }
   ],
   "source": [
    "X"
   ]
  },
  {
   "cell_type": "code",
   "execution_count": 5,
   "metadata": {},
   "outputs": [],
   "source": [
    "# check that you can undo your bag of words"
   ]
  },
  {
   "cell_type": "code",
   "execution_count": 6,
   "metadata": {},
   "outputs": [],
   "source": [
    "idx2word = dict([(word2idx[w], w) for w in word2idx])"
   ]
  },
  {
   "cell_type": "code",
   "execution_count": 7,
   "metadata": {},
   "outputs": [
    {
     "name": "stdout",
     "output_type": "stream",
     "text": [
      "['the', 'uber', 'driver', 'behind', 'wheel', 'of', 'an', 'autonomous', 'car', 'that', 'hit', 'and', 'killed', 'a', 'pedestrian', 'in', 'arizona', 'could', 'have', 'avoided', 'collision', 'if', 'she', 'had', 'not', 'been', 'distracted,', 'according', 'to', 'police', 'investigating', 'incident.']\n",
      "['the', 'an', 'that', 'in', 'arizona', 'have', 'been', 'police', 'avoidability', 'analysis', 'by', 'tempe,', 'following', \"march's\", 'crash', 'suggested', 'rafaela', 'vasquez,', \"uber's\", 'safety', 'driver,', 'may', 'watching', 'online', 'video', 'service', 'hulu', 'car.']\n",
      "['the', 'of', 'an', 'autonomous', 'car', 'killed', 'a', 'to', 'death', '49-year-old', 'elaine', 'herzberg', 'is', 'believed', 'be', 'first', 'time', 'has', 'bystander,', 'prompting', 'series', 'investigations', 'into', 'what', 'happened.']\n"
     ]
    }
   ],
   "source": [
    "for x in X:\n",
    "    bag_of_words = []\n",
    "    for i in range(X.shape[1]):\n",
    "        if x[i] > 0:\n",
    "            bag_of_words.append(idx2word[i])\n",
    "            \n",
    "    print(bag_of_words)"
   ]
  },
  {
   "cell_type": "code",
   "execution_count": 8,
   "metadata": {},
   "outputs": [],
   "source": [
    "# what fraction of entries are not zero in X?"
   ]
  },
  {
   "cell_type": "code",
   "execution_count": 9,
   "metadata": {},
   "outputs": [
    {
     "data": {
      "text/plain": [
       "array([ 0.46376812,  0.4057971 ,  0.36231884])"
      ]
     },
     "execution_count": 9,
     "metadata": {},
     "output_type": "execute_result"
    }
   ],
   "source": [
    "(X>0).sum(axis=1) / X.shape[1]"
   ]
  },
  {
   "cell_type": "markdown",
   "metadata": {},
   "source": [
    "This is a fairly small vocabulary and just three sentences but already most of the entries in the vector are zeros. Note that the (cosine) distance between two vectors for individual words carries no semantic meaning."
   ]
  },
  {
   "cell_type": "markdown",
   "metadata": {},
   "source": [
    "## Using ready made tools for this\n",
    "\n",
    "scikit-learn has tools to do this for you."
   ]
  },
  {
   "cell_type": "code",
   "execution_count": 10,
   "metadata": {},
   "outputs": [
    {
     "name": "stdout",
     "output_type": "stream",
     "text": [
      "['49', 'according', 'an', 'analysis', 'and', 'arizona', 'autonomous', 'avoidability', 'avoided', 'be', 'been', 'behind', 'believed', 'by', 'bystander', 'car', 'collision', 'could', 'crash', 'death', 'distracted', 'driver', 'elaine', 'first', 'following', 'had', 'happened', 'has', 'have', 'herzberg', 'hit', 'hulu', 'if', 'in', 'incident', 'into', 'investigating', 'investigations', 'is', 'killed', 'march', 'may', 'not', 'of', 'old', 'online', 'pedestrian', 'police', 'prompting', 'rafaela', 'safety', 'series', 'service', 'she', 'suggested', 'tempe', 'that', 'the', 'time', 'to', 'uber', 'vasquez', 'video', 'watching', 'what', 'wheel', 'year']\n"
     ]
    }
   ],
   "source": [
    "from sklearn.feature_extraction.text import CountVectorizer\n",
    "\n",
    "vect = CountVectorizer()\n",
    "# learn the mapping from words to integers\n",
    "vect.fit(sentences)\n",
    "print(sorted(vect.get_feature_names()))"
   ]
  },
  {
   "cell_type": "code",
   "execution_count": 11,
   "metadata": {},
   "outputs": [],
   "source": [
    "# use the learnt mapping to convert sentences to bag of words\n",
    "X_sk = vect.transform(sentences)"
   ]
  },
  {
   "cell_type": "code",
   "execution_count": 12,
   "metadata": {},
   "outputs": [
    {
     "data": {
      "text/plain": [
       "[array(['according', 'an', 'and', 'arizona', 'autonomous', 'avoided',\n",
       "        'been', 'behind', 'car', 'collision', 'could', 'distracted',\n",
       "        'driver', 'had', 'have', 'hit', 'if', 'in', 'incident',\n",
       "        'investigating', 'killed', 'not', 'of', 'pedestrian', 'police',\n",
       "        'she', 'that', 'the', 'to', 'uber', 'wheel'],\n",
       "       dtype='<U14'),\n",
       " array(['an', 'analysis', 'arizona', 'avoidability', 'been', 'by', 'car',\n",
       "        'crash', 'driver', 'following', 'have', 'hulu', 'in', 'march',\n",
       "        'may', 'online', 'police', 'rafaela', 'safety', 'service',\n",
       "        'suggested', 'tempe', 'that', 'the', 'uber', 'vasquez', 'video',\n",
       "        'watching'],\n",
       "       dtype='<U14'),\n",
       " array(['49', 'an', 'autonomous', 'be', 'believed', 'bystander', 'car',\n",
       "        'death', 'elaine', 'first', 'happened', 'has', 'herzberg', 'into',\n",
       "        'investigations', 'is', 'killed', 'of', 'old', 'prompting',\n",
       "        'series', 'the', 'time', 'to', 'what', 'year'],\n",
       "       dtype='<U14')]"
      ]
     },
     "execution_count": 12,
     "metadata": {},
     "output_type": "execute_result"
    }
   ],
   "source": [
    "vect.inverse_transform(X_sk)"
   ]
  },
  {
   "cell_type": "code",
   "execution_count": 13,
   "metadata": {},
   "outputs": [
    {
     "data": {
      "text/plain": [
       "((3, 69), (3, 67))"
      ]
     },
     "execution_count": 13,
     "metadata": {},
     "output_type": "execute_result"
    }
   ],
   "source": [
    "X.shape, X_sk.shape"
   ]
  },
  {
   "cell_type": "code",
   "execution_count": 14,
   "metadata": {},
   "outputs": [],
   "source": [
    "# why is there a difference between what `CountVectorizer` says how many features\n",
    "# there are and your code?"
   ]
  },
  {
   "cell_type": "code",
   "execution_count": 15,
   "metadata": {},
   "outputs": [
    {
     "name": "stdout",
     "output_type": "stream",
     "text": [
      "['49-year-old', 'a', 'according', 'an', 'analysis', 'and', 'arizona', 'autonomous', 'avoidability', 'avoided', 'be', 'been', 'behind', 'believed', 'by', 'bystander,', 'car', 'car.', 'collision', 'could', 'crash', 'death', 'distracted,', 'driver', 'driver,', 'elaine', 'first', 'following', 'had', 'happened.', 'has', 'have', 'herzberg', 'hit', 'hulu', 'if', 'in', 'incident.', 'into', 'investigating', 'investigations', 'is', 'killed', \"march's\", 'may', 'not', 'of', 'online', 'pedestrian', 'police', 'prompting', 'rafaela', 'safety', 'series', 'service', 'she', 'suggested', 'tempe,', 'that', 'the', 'time', 'to', 'uber', \"uber's\", 'vasquez,', 'video', 'watching', 'what', 'wheel']\n"
     ]
    }
   ],
   "source": [
    "print(sorted(word2idx.keys()))"
   ]
  },
  {
   "cell_type": "markdown",
   "metadata": {},
   "source": [
    "## Classify movies from their reviews\n",
    "\n",
    "Fetch the dataset from http://ai.stanford.edu/~amaas/data/sentiment/ and un'tar it to\n",
    "a directory near to this notebook. I placed it in `../data/`."
   ]
  },
  {
   "cell_type": "code",
   "execution_count": 16,
   "metadata": {},
   "outputs": [
    {
     "name": "stdout",
     "output_type": "stream",
     "text": [
      "type of text_train: <class 'list'>\n",
      "length of text_train: 25000\n",
      "class balance: [12500 12500]\n"
     ]
    }
   ],
   "source": [
    "from sklearn.datasets import load_files\n",
    "\n",
    "reviews_train = load_files(\"../data/aclImdb/train/\", categories=['neg', 'pos'])\n",
    "\n",
    "text_trainval, y_trainval = reviews_train.data, reviews_train.target\n",
    "\n",
    "print(\"type of text_train: {}\".format(type(text_trainval)))\n",
    "print(\"length of text_train: {}\".format(len(text_trainval)))\n",
    "print(\"class balance: {}\".format(np.bincount(y_trainval)))"
   ]
  },
  {
   "cell_type": "code",
   "execution_count": 17,
   "metadata": {},
   "outputs": [
    {
     "name": "stdout",
     "output_type": "stream",
     "text": [
      "classes: {0, 1}\n"
     ]
    }
   ],
   "source": [
    "print(\"classes: {}\".format(set(y_trainval)))"
   ]
  },
  {
   "cell_type": "code",
   "execution_count": 18,
   "metadata": {},
   "outputs": [
    {
     "name": "stdout",
     "output_type": "stream",
     "text": [
      "text_train[42]:\n",
      "I swear I could watch this movie every weekend of my life and never get sick of it! Every aspect of human emotion is captured so magically by the acting, the script, the direction, and the general feeling of this movie. It's been a long time since I saw a movie that actually made me choke from laughter, reflect from sadness, and feel each intended feeling that comes through in this most excellent work! We need MORE MOVIES like this!!! Mike Binder: are you listening???\n"
     ]
    }
   ],
   "source": [
    "# look at an example review\n",
    "print(\"text_train[42]:\\n{}\".format(text_trainval[42].decode()))"
   ]
  },
  {
   "cell_type": "code",
   "execution_count": 19,
   "metadata": {},
   "outputs": [
    {
     "data": {
      "text/plain": [
       "<18750x210654 sparse matrix of type '<class 'numpy.int64'>'\n",
       "\twith 5340006 stored elements in Compressed Sparse Row format>"
      ]
     },
     "execution_count": 19,
     "metadata": {},
     "output_type": "execute_result"
    }
   ],
   "source": [
    "# Vectorise!\n",
    "from sklearn.model_selection import train_test_split\n",
    "\n",
    "\n",
    "text_trainval = [doc.replace(b\"<br />\", b\" \") for doc in text_trainval]\n",
    "\n",
    "text_train, text_val, y_train, y_val = train_test_split(\n",
    "    text_trainval, y_trainval, stratify=y_trainval, random_state=0)\n",
    "\n",
    "vect = CountVectorizer(ngram_range=(1, 2), min_df=3)\n",
    "X_train = vect.fit_transform(text_train)\n",
    "# Note that we learn the mapping from the training only!\n",
    "# this is key! This is why it pays to use existing tools\n",
    "# as they can deal with words which are missing from the\n",
    "# map (out of vocabulary words).\n",
    "X_val = vect.transform(text_val)\n",
    "X_train"
   ]
  },
  {
   "cell_type": "code",
   "execution_count": 20,
   "metadata": {},
   "outputs": [
    {
     "name": "stdout",
     "output_type": "stream",
     "text": [
      "['00', '00 am', '00 and', '00 in', '00 it', '00 on', '00 to', '000', '000 00', '000 000']\n",
      "['britain the', 'britain to', 'britains', 'britian', 'british', 'british accent', 'british actor', 'british actors', 'british actress', 'british and']\n",
      "['00', 'activity to', 'all stories', 'and accept', 'and neglected', 'any episodes', 'as circus', 'awesomely', 'beauty with', 'biggest fans', 'britain the', 'calls him', 'character milo', 'code in', 'cook as', 'dancing of', 'dialogs and', 'doesn think', 'edited version', 'especially to', 'eyes it', 'film albeit', 'follow your', 'from love', 'give but', 'group can', 'have friend', 'herbie fully', 'hollywood had', 'impasse', 'infuriating', 'is invited', 'it we', 'kanin and', 'lay out', 'little chance', 'main actor', 'mean the', 'montana to', 'much so', 'nice gore', 'obrow', 'of rancid', 'one definitely', 'our leads', 'pent up', 'plunges', 'programme as', 'read few', 'reptiles', 'russian one', 'secretaries', 'shelly winters', 'slow this', 'sound film', 'stood', 'surprise', 'than try', 'the coast', 'the nicely', 'their choices', 'this criminal', 'to assimilate', 'took me', 'uk on', 'version have', 'was heard', 'were singing', 'wife have', 'wont even', 'younger days']\n"
     ]
    }
   ],
   "source": [
    "# check out some of the words\n",
    "feature_names = vect.get_feature_names()\n",
    "print(feature_names[:10])\n",
    "print(feature_names[30000:30010])\n",
    "print(feature_names[::3000])"
   ]
  },
  {
   "cell_type": "code",
   "execution_count": 21,
   "metadata": {},
   "outputs": [],
   "source": [
    "# fit a logistic regression model to the data and measure the performance\n",
    "# of the model. We now have a baseline we need to improve on.\n",
    "# Once you have your model running tune the regularisation strength `C`\n",
    "# using RandomSearchCV or LogisticRegressionCV which is more efficient\n",
    "# Use scikit-learn for this"
   ]
  },
  {
   "cell_type": "code",
   "execution_count": 22,
   "metadata": {},
   "outputs": [
    {
     "data": {
      "text/plain": [
       "0.99525333333333332"
      ]
     },
     "execution_count": 22,
     "metadata": {},
     "output_type": "execute_result"
    }
   ],
   "source": [
    "from sklearn.linear_model import LogisticRegressionCV\n",
    "from sklearn.linear_model import LogisticRegression\n",
    "\n",
    "lr = LogisticRegressionCV().fit(X_train, y_train)\n",
    "lr.score(X_train, y_train)"
   ]
  },
  {
   "cell_type": "code",
   "execution_count": 23,
   "metadata": {},
   "outputs": [
    {
     "data": {
      "text/plain": [
       "0.88895999999999997"
      ]
     },
     "execution_count": 23,
     "metadata": {},
     "output_type": "execute_result"
    }
   ],
   "source": [
    "lr.score(X_val, y_val)"
   ]
  },
  {
   "cell_type": "code",
   "execution_count": 24,
   "metadata": {},
   "outputs": [],
   "source": [
    "# Find out which words correlate with a good and a bad review.\n",
    "# You can inspect the weights of the linear model by looking\n",
    "# at the coefs_ property of your LogisticRegression instance\n",
    "# do they seem sensible? Could you explain why a review is\n",
    "# getting a high or a low predicted sentiment?"
   ]
  },
  {
   "cell_type": "code",
   "execution_count": 25,
   "metadata": {},
   "outputs": [],
   "source": [
    "%matplotlib inline"
   ]
  },
  {
   "cell_type": "code",
   "execution_count": 26,
   "metadata": {},
   "outputs": [],
   "source": [
    "import matplotlib.pyplot as plt\n",
    "import matplotlib.pyplot as plt\n",
    "plt.rcParams[\"figure.figsize\"] = (8, 8)\n",
    "plt.rcParams[\"font.size\"] = 14"
   ]
  },
  {
   "cell_type": "code",
   "execution_count": 27,
   "metadata": {},
   "outputs": [],
   "source": [
    "import numpy as np\n",
    "\n",
    "\n",
    "def plot_important_features(coef, feature_names, top_n=20, ax=None, rotation=90):\n",
    "    if ax is None:\n",
    "        ax = plt.gca()\n",
    "    inds = np.argsort(coef)\n",
    "    low = inds[:top_n]\n",
    "    high = inds[-top_n:]\n",
    "    important = np.hstack([low, high])\n",
    "    myrange = range(len(important))\n",
    "    colors = ['red'] * top_n + ['blue'] * top_n\n",
    "    \n",
    "    ax.bar(myrange, coef[important], color=colors)\n",
    "    ax.set_xticks(myrange)\n",
    "    ax.set_xticklabels(feature_names[important], rotation=rotation, ha=\"center\")\n",
    "    ax.set_xlim(-.7, 2 * top_n)\n",
    "    #ax.set_frame_on(False)"
   ]
  },
  {
   "cell_type": "code",
   "execution_count": 28,
   "metadata": {},
   "outputs": [
    {
     "data": {
      "image/png": "[encoded data removed]",
      "text/plain": [
       "<Figure size 576x576 with 1 Axes>"
      ]
     },
     "metadata": {},
     "output_type": "display_data"
    }
   ],
   "source": [
    "plot_important_features(lr.coef_.ravel(),\n",
    "                        np.array(feature_names))"
   ]
  },
  {
   "cell_type": "markdown",
   "metadata": {},
   "source": [
    "## Bonus\n",
    "\n",
    "* investigate how to configure the vectorizer to exclude stop words\n",
    "* should you fix the spelling of misspelt words?\n",
    "* only include words that appear more than N times?\n",
    "* only include the M most frequent words?\n",
    "* how few examples do you need to achieve a \"good\" performance?\n",
    "* a bag of words does not know anything about the order of words,\n",
    "  can you construct bi-grams (pairs of words) and improve the\n",
    "  performance?\n",
    "* construct a logistic regression model in keras and use that instead\n",
    "  of using scikit-learn's implementation\n",
    "\n",
    "\n",
    "# Term frequency, inverse document frequency\n",
    "\n",
    "Instead of counting how often a word appears we can also use TfIdf."
   ]
  },
  {
   "cell_type": "code",
   "execution_count": 29,
   "metadata": {},
   "outputs": [],
   "source": [
    "from sklearn.feature_extraction.text import TfidfVectorizer\n",
    "from sklearn.linear_model import LogisticRegression\n",
    "from sklearn.pipeline import make_pipeline\n",
    "\n",
    "\n",
    "text_classifier = make_pipeline(\n",
    "    TfidfVectorizer(min_df=3, max_df=0.8, ngram_range=(1, 2)),\n",
    "    LogisticRegression(),\n",
    ")"
   ]
  },
  {
   "cell_type": "code",
   "execution_count": 30,
   "metadata": {},
   "outputs": [
    {
     "name": "stdout",
     "output_type": "stream",
     "text": [
      "CPU times: user 20.2 s, sys: 1.37 s, total: 21.6 s\n",
      "Wall time: 18.4 s\n"
     ]
    },
    {
     "data": {
      "text/plain": [
       "Pipeline(memory=None,\n",
       "     steps=[('tfidfvectorizer', TfidfVectorizer(analyzer='word', binary=False, decode_error='strict',\n",
       "        dtype=<class 'numpy.int64'>, encoding='utf-8', input='content',\n",
       "        lowercase=True, max_df=0.8, max_features=None, min_df=3,\n",
       "        ngram_range=(1, 2), norm='l2', preprocessor=None, smooth_i...ty='l2', random_state=None, solver='liblinear', tol=0.0001,\n",
       "          verbose=0, warm_start=False))])"
      ]
     },
     "execution_count": 30,
     "metadata": {},
     "output_type": "execute_result"
    }
   ],
   "source": [
    "%%time\n",
    "text_classifier.fit(text_train, y_train)"
   ]
  },
  {
   "cell_type": "code",
   "execution_count": 31,
   "metadata": {},
   "outputs": [
    {
     "data": {
      "text/plain": [
       "0.88495999999999997"
      ]
     },
     "execution_count": 31,
     "metadata": {},
     "output_type": "execute_result"
    }
   ],
   "source": [
    "text_classifier.score(text_val, y_val)"
   ]
  },
  {
   "cell_type": "markdown",
   "metadata": {},
   "source": [
    "## Baseline results\n",
    "\n",
    "With about 20s of computer time and a few minutes of work we are at 88% accuracy.\n",
    "\n",
    "We have not really tuned this baseline yet, it is possible that some investment in \n",
    "finding better hyperparamters will improve the baseline further. Try it out."
   ]
  },
  {
   "cell_type": "code",
   "execution_count": null,
   "metadata": {},
   "outputs": [],
   "source": []
  }
 ],
 "metadata": {
  "kernelspec": {
   "display_name": "Python 3",
   "language": "python",
   "name": "python3"
  },
  "language_info": {
   "codemirror_mode": {
    "name": "ipython",
    "version": 3
   },
   "file_extension": ".py",
   "mimetype": "text/x-python",
   "name": "python",
   "nbconvert_exporter": "python",
   "pygments_lexer": "ipython3",
   "version": "3.6.5"
  }
 },
 "nbformat": 4,
 "nbformat_minor": 2
}
