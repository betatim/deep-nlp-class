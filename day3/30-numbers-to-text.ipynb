{
 "cells": [
  {
   "cell_type": "markdown",
   "metadata": {},
   "source": [
    "# \"Translating\" numbers with seq2seq\n",
    "\n",
    "In the following we will try to build a translation model from german phrases describing numbers to the corresponding numeric representation (base 10).\n",
    "\n",
    "This is a toy machine translation task with a very restricted vocabulary and a single valid translation for each source phrase which makes it possible to train on a laptop computer and easier to evaluate. Despite those limitations we expect that this task will highlight interesting properties of Seq2Seq models including:\n",
    "\n",
    "- the ability to deal with different length of the source and target sequences,\n",
    "- basic counting and \"reasoning\" capabilities of LSTM and GRU models.\n",
    "\n",
    "The parallel text data is generated from a \"ground-truth\" Python function named `to_german` in the `zahlen` module. It seems to generate reasonably good phrases."
   ]
  },
  {
   "cell_type": "code",
   "execution_count": 1,
   "metadata": {},
   "outputs": [
    {
     "name": "stdout",
     "output_type": "stream",
     "text": [
      "    21 ein und zwanzig\n",
      "    42 zwei und vierzig\n",
      "    80 achtzig\n",
      "    81 ein und achtzig\n",
      "    88 acht und achtzig\n",
      "   300 dreihundert\n",
      "   213 zweihundert und dreizehn\n",
      "  1100 eintausend einhundert\n",
      "  1201 eintausend zweihundert und eins\n",
      "301000 dreihundert und ein tausend\n",
      " 80080 achtzig tausend und achtzig\n"
     ]
    }
   ],
   "source": [
    "from zahlen import to_german\n",
    "\n",
    "for x in [21, 42, 80, 81, 88, 300, 213, 1100, 1201, 301000, 80080]:\n",
    "    print(str(x).rjust(6), to_german(x))"
   ]
  },
  {
   "cell_type": "markdown",
   "metadata": {},
   "source": [
    "## Generating a Training Set\n",
    "\n",
    "The following will generate 20000 example phrases for numbers between 1 and 1,000,000. We chose to over-represent small numbers by generating all the possible short sequences between `1` and `exhaustive=5000`.\n",
    "\n",
    "We then split the generated set into non-overlapping train, validation and test splits."
   ]
  },
  {
   "cell_type": "code",
   "execution_count": 1,
   "metadata": {
    "scrolled": false
   },
   "outputs": [],
   "source": [
    "from zahlen import generate\n",
    "from sklearn.model_selection import train_test_split\n",
    "\n",
    "\n",
    "numbers, german_numbers = generate(\n",
    "    20000, low=1, high=int(1e6), exhaustive=5000, seed=0)\n",
    "num_train, num_dev, de_train, de_dev = train_test_split(\n",
    "    numbers, german_numbers, test_size=0.5, random_state=0)\n",
    "\n",
    "num_val, num_test, de_val, de_test = train_test_split(\n",
    "    num_dev, de_dev, test_size=0.5, random_state=0)"
   ]
  },
  {
   "cell_type": "code",
   "execution_count": 2,
   "metadata": {},
   "outputs": [
    {
     "data": {
      "text/plain": [
       "(10000, 5000, 5000)"
      ]
     },
     "execution_count": 2,
     "metadata": {},
     "output_type": "execute_result"
    }
   ],
   "source": [
    "len(de_train), len(de_val), len(de_test)"
   ]
  },
  {
   "cell_type": "code",
   "execution_count": 3,
   "metadata": {},
   "outputs": [
    {
     "name": "stdout",
     "output_type": "stream",
     "text": [
      "197906 einhundert sieben und neunzig tausend neunhundert und sechs\n",
      "660886 sechshundert und sechzig tausend achthundert sechs und achtzig\n",
      "  2746 zweitausend siebenhundert sechs und vierzig\n",
      "165370 einhundert fuenf und sechzig tausend dreihundert und siebzig\n",
      "870470 achthundert und siebzig tausend vierhundert und siebzig\n"
     ]
    }
   ],
   "source": [
    "for i, de_phrase, num_phrase in zip(range(5), de_train, num_train):\n",
    "    print(num_phrase.rjust(6), de_phrase)"
   ]
  },
  {
   "cell_type": "code",
   "execution_count": 4,
   "metadata": {},
   "outputs": [
    {
     "name": "stdout",
     "output_type": "stream",
     "text": [
      "124590 einhundert vier und zwanzig tausend fuenfhundert und neunzig\n",
      "113044 einhundert und dreizehn tausend vier und vierzig\n",
      "449006 vierhundert neun und vierzig tausend und sechs\n",
      "723927 siebenhundert drei und zwanzig tausend neunhundert sieben und zwanzig\n",
      "292178 zweihundert zwei und neunzig tausend einhundert acht und siebzig\n"
     ]
    }
   ],
   "source": [
    "for i, de_phrase, num_phrase in zip(range(5), de_val, num_val):\n",
    "    print(num_phrase.rjust(6), de_phrase)"
   ]
  },
  {
   "cell_type": "markdown",
   "metadata": {},
   "source": [
    "## Vocabularies\n",
    "\n",
    "Build the vocabularies from the training set only. This means there is a chance to have some out-of-vocabulary words in the validation and test sets.\n",
    "\n",
    "First we need to introduce specific symbols that will be used to:\n",
    "- pad sequences\n",
    "- mark the beginning of translation\n",
    "- mark the end of translation\n",
    "- be used as a placehold for out-of-vocabulary symbols (not seen in the training set).\n",
    "\n",
    "Here we use the same convention as the [tensorflow seq2seq tutorial](https://www.tensorflow.org/tutorials/seq2seq):"
   ]
  },
  {
   "cell_type": "code",
   "execution_count": 5,
   "metadata": {},
   "outputs": [],
   "source": [
    "PAD, GO, EOS, UNK = START_VOCAB = ['_PAD', '_GO', '_EOS', '_UNK']"
   ]
  },
  {
   "cell_type": "markdown",
   "metadata": {},
   "source": [
    "To build the vocabulary we need to tokenise the sequences of symbols. For the digital number representation we use character level tokenisation while whitespace-based word level tokenisation will do for the German phrases:"
   ]
  },
  {
   "cell_type": "code",
   "execution_count": 11,
   "metadata": {},
   "outputs": [],
   "source": [
    "def tokenise(sentence, word_level=True):\n",
    "    if word_level:\n",
    "        return sentence.split()\n",
    "    else:\n",
    "        return [sentence[i:i + 1] for i in range(len(sentence))]"
   ]
  },
  {
   "cell_type": "code",
   "execution_count": 12,
   "metadata": {},
   "outputs": [
    {
     "data": {
      "text/plain": [
       "['1', '2', '3', '4']"
      ]
     },
     "execution_count": 12,
     "metadata": {},
     "output_type": "execute_result"
    }
   ],
   "source": [
    "tokenise('1234', word_level=False)"
   ]
  },
  {
   "cell_type": "code",
   "execution_count": 13,
   "metadata": {},
   "outputs": [
    {
     "data": {
      "text/plain": [
       "['einhundert', 'und', 'dreizehn', 'tausend', 'vier', 'und', 'vierzig']"
      ]
     },
     "execution_count": 13,
     "metadata": {},
     "output_type": "execute_result"
    }
   ],
   "source": [
    "tokenise('einhundert und dreizehn tausend vier und vierzig', word_level=True)"
   ]
  },
  {
   "cell_type": "markdown",
   "metadata": {},
   "source": [
    "Let's now use this tokenisation strategy to assign a unique integer token ID to each possible token string found in the training set in each language ('German' and 'numeric'): "
   ]
  },
  {
   "cell_type": "code",
   "execution_count": 14,
   "metadata": {},
   "outputs": [],
   "source": [
    "def build_vocabulary(tokenised_sequences):\n",
    "    rev_vocabulary = START_VOCAB[:]\n",
    "    unique_tokens = set()\n",
    "    for tokens in tokenised_sequences:\n",
    "        unique_tokens.update(tokens)\n",
    "    rev_vocabulary += sorted(unique_tokens)\n",
    "    vocabulary = {}\n",
    "    for i, token in enumerate(rev_vocabulary):\n",
    "        vocabulary[token] = i\n",
    "    return vocabulary, rev_vocabulary"
   ]
  },
  {
   "cell_type": "code",
   "execution_count": 15,
   "metadata": {},
   "outputs": [],
   "source": [
    "tokenised_de_train = [tokenise(s, word_level=True) for s in de_train]\n",
    "tokenised_num_train = [tokenise(s, word_level=False) for s in num_train]\n",
    "\n",
    "de_vocab, rev_de_vocab = build_vocabulary(tokenised_de_train)\n",
    "num_vocab, rev_num_vocab = build_vocabulary(tokenised_num_train)"
   ]
  },
  {
   "cell_type": "markdown",
   "metadata": {},
   "source": [
    "The two languages do not have the same vocabulary sizes:"
   ]
  },
  {
   "cell_type": "code",
   "execution_count": 16,
   "metadata": {},
   "outputs": [
    {
     "data": {
      "text/plain": [
       "52"
      ]
     },
     "execution_count": 16,
     "metadata": {},
     "output_type": "execute_result"
    }
   ],
   "source": [
    "len(de_vocab)"
   ]
  },
  {
   "cell_type": "code",
   "execution_count": 17,
   "metadata": {},
   "outputs": [
    {
     "data": {
      "text/plain": [
       "14"
      ]
     },
     "execution_count": 17,
     "metadata": {},
     "output_type": "execute_result"
    }
   ],
   "source": [
    "len(num_vocab)"
   ]
  },
  {
   "cell_type": "code",
   "execution_count": 18,
   "metadata": {},
   "outputs": [
    {
     "name": "stdout",
     "output_type": "stream",
     "text": [
      "      _EOS 2\n",
      "       _GO 1\n",
      "      _PAD 0\n",
      "      _UNK 3\n",
      "      acht 4\n",
      "achthundert 5\n",
      "achttausend 6\n",
      "  achtzehn 7\n",
      "   achtzig 8\n",
      "      drei 9\n",
      "...\n"
     ]
    }
   ],
   "source": [
    "for k, v in sorted(de_vocab.items())[:10]:\n",
    "    print(k.rjust(10), v)\n",
    "print('...')"
   ]
  },
  {
   "cell_type": "code",
   "execution_count": 19,
   "metadata": {},
   "outputs": [
    {
     "name": "stdout",
     "output_type": "stream",
     "text": [
      "         0 4\n",
      "         1 5\n",
      "         2 6\n",
      "         3 7\n",
      "         4 8\n",
      "         5 9\n",
      "         6 10\n",
      "         7 11\n",
      "         8 12\n",
      "         9 13\n",
      "      _EOS 2\n",
      "       _GO 1\n",
      "      _PAD 0\n",
      "      _UNK 3\n"
     ]
    }
   ],
   "source": [
    "for k, v in sorted(num_vocab.items()):\n",
    "    print(k.rjust(10), v)"
   ]
  },
  {
   "cell_type": "markdown",
   "metadata": {},
   "source": [
    "We also built the reverse mappings from token ids to token string representations:"
   ]
  },
  {
   "cell_type": "code",
   "execution_count": 20,
   "metadata": {
    "scrolled": true
   },
   "outputs": [
    {
     "name": "stdout",
     "output_type": "stream",
     "text": [
      "['_PAD', '_GO', '_EOS', '_UNK', 'acht', 'achthundert', 'achttausend', 'achtzehn', 'achtzig', 'drei', 'dreihundert', 'dreissig', 'dreitausend', 'dreizehn', 'ein', 'einhundert', 'eins', 'eintausend', 'elf', 'fuenf', 'fuenfhundert', 'fuenftausend', 'fuenfzehn', 'fuenfzig', 'neun', 'neunhundert', 'neuntausend', 'neunzehn', 'neunzig', 'sechs', 'sechshundert', 'sechstausend', 'sechzehn', 'sechzig', 'sieben', 'siebenhundert', 'siebentausend', 'siebzehn', 'siebzig', 'tausend', 'und', 'vier', 'vierhundert', 'viertausend', 'vierzehn', 'vierzig', 'zehn', 'zwanzig', 'zwei', 'zweihundert', 'zweitausend', 'zwoelf']\n"
     ]
    }
   ],
   "source": [
    "print(rev_de_vocab)"
   ]
  },
  {
   "cell_type": "code",
   "execution_count": 21,
   "metadata": {},
   "outputs": [
    {
     "name": "stdout",
     "output_type": "stream",
     "text": [
      "['_PAD', '_GO', '_EOS', '_UNK', '0', '1', '2', '3', '4', '5', '6', '7', '8', '9']\n"
     ]
    }
   ],
   "source": [
    "print(rev_num_vocab)"
   ]
  },
  {
   "cell_type": "markdown",
   "metadata": {},
   "source": [
    "## Seq2Seq with a single GRU architecture\n",
    "\n",
    "<img src=\"basic_seq2seq.png\" width=\"80%\" />\n",
    "\n",
    "From: [Sutskever, Ilya, Oriol Vinyals, and Quoc V. Le. \"Sequence to sequence learning with neural networks.\" NIPS 2014](https://arxiv.org/abs/1409.3215)\n",
    "\n",
    "\n",
    "\n",
    "Next we need to prepare the inputs for training. For a given source - target sequence pair, we will:\n",
    "- tokenise the source and target sequences;\n",
    "- reverse the order of the source sequence;\n",
    "- create the input sequence by creating a list consisting of the reversed source sequence, the `_GO` token and the target sequence in the original order;\n",
    "- build the output sequence by appending the `_EOS` token to the source sequence.\n",
    "\n",
    "Let's do this as a function using the original string representations for the tokens so as to make it easier to debug:"
   ]
  },
  {
   "cell_type": "markdown",
   "metadata": {},
   "source": [
    "**Exercise**\n",
    "- Write a function that turns a pair of tokenized (source, target) sequences into a pair of (input, output) sequences as described above.\n",
    "- The function should have a `reverse_source=True` as an option so we can experiment with not reversing the source sequence.\n",
    "\n",
    "Notes: \n",
    "- The function should output two list of string tokens: one to be fed in as the input and the other as expected output for the seq2seq network.\n",
    "- Do not pad the sequences: we will handle the padding later.\n",
    "- Don't forget to insert the `_GO` and `_EOS` special symbols at the correct locations."
   ]
  },
  {
   "cell_type": "code",
   "execution_count": 22,
   "metadata": {},
   "outputs": [],
   "source": [
    "def make_input_output(source_tokens, target_tokens, reverse_source=True):\n",
    "    if reverse_source:\n",
    "        source_tokens = source_tokens[::-1]\n",
    "    input_tokens = source_tokens + [GO] + target_tokens\n",
    "    output_tokens = target_tokens + [EOS]\n",
    "    return input_tokens, output_tokens"
   ]
  },
  {
   "cell_type": "code",
   "execution_count": 26,
   "metadata": {},
   "outputs": [],
   "source": [
    "input_tokens, output_tokens = make_input_output(\n",
    "    ['ein', 'hundert', 'und', 'eins'],\n",
    "    ['1', '2', '1'],\n",
    ")\n",
    "# Expected outputs:\n",
    "# ['eins', 'und', 'hundert', 'ein', '_GO', '1', '2', '1']\n",
    "# ['1', '2', '1', '_EOS']"
   ]
  },
  {
   "cell_type": "code",
   "execution_count": 27,
   "metadata": {},
   "outputs": [
    {
     "data": {
      "text/plain": [
       "['eins', 'und', 'hundert', 'ein', '_GO', '1', '2', '1']"
      ]
     },
     "execution_count": 27,
     "metadata": {},
     "output_type": "execute_result"
    }
   ],
   "source": [
    "input_tokens"
   ]
  },
  {
   "cell_type": "code",
   "execution_count": 28,
   "metadata": {},
   "outputs": [
    {
     "data": {
      "text/plain": [
       "['1', '2', '1', '_EOS']"
      ]
     },
     "execution_count": 28,
     "metadata": {},
     "output_type": "execute_result"
    }
   ],
   "source": [
    "output_tokens"
   ]
  },
  {
   "cell_type": "markdown",
   "metadata": {},
   "source": [
    "### Vectorisation of the parallel corpus\n",
    "\n",
    "Let's apply the previous transformation to each pair of (source, target) sequene and use a shared vocabulary to store the results in numpy arrays of integer token IDs, with padding on the left so that all input / output sequences have the same length:"
   ]
  },
  {
   "cell_type": "code",
   "execution_count": 29,
   "metadata": {},
   "outputs": [],
   "source": [
    "all_tokenised_sequences = tokenised_de_train + tokenised_num_train\n",
    "shared_vocab, rev_shared_vocab = build_vocabulary(all_tokenised_sequences)"
   ]
  },
  {
   "cell_type": "code",
   "execution_count": 31,
   "metadata": {},
   "outputs": [
    {
     "data": {
      "text/plain": [
       "9"
      ]
     },
     "execution_count": 31,
     "metadata": {},
     "output_type": "execute_result"
    }
   ],
   "source": [
    "max(len(s) for s in tokenised_de_train)"
   ]
  },
  {
   "cell_type": "code",
   "execution_count": 32,
   "metadata": {},
   "outputs": [
    {
     "data": {
      "text/plain": [
       "6"
      ]
     },
     "execution_count": 32,
     "metadata": {},
     "output_type": "execute_result"
    }
   ],
   "source": [
    "max(len(s) for s in tokenised_num_train)"
   ]
  },
  {
   "cell_type": "code",
   "execution_count": 38,
   "metadata": {},
   "outputs": [],
   "source": [
    "import numpy as np\n",
    "# found by introspection of our training set\n",
    "# max DE train length + max numeric train lenght + 1 token\n",
    "max_length = 9 + 6 + 1\n",
    "\n",
    "def vectorise_corpus(source_sequences, target_sequences, shared_vocab,\n",
    "                     word_level_source=True, word_level_target=True,\n",
    "                     max_length=max_length):\n",
    "    assert len(source_sequences) == len(target_sequences)\n",
    "    n_sequences = len(source_sequences)\n",
    "    # a numpy array to store the source tokens\n",
    "    source_ids = np.empty(shape=(n_sequences, max_length), dtype=np.int32)\n",
    "    # set everything to represent \"PADDING\"\n",
    "    source_ids.fill(shared_vocab[PAD])\n",
    "    # place to store the target tokens\n",
    "    target_ids = np.empty(shape=(n_sequences, max_length), dtype=np.int32)\n",
    "    target_ids.fill(shared_vocab[PAD])\n",
    "\n",
    "    numbered_pairs = zip(range(n_sequences), source_sequences, target_sequences)\n",
    "    for i, source_seq, target_seq in numbered_pairs:\n",
    "        source_tokens = tokenise(source_seq, word_level=word_level_source)\n",
    "        target_tokens = tokenise(target_seq, word_level=word_level_target)\n",
    "        \n",
    "        in_tokens, out_tokens = make_input_output(source_tokens, target_tokens)\n",
    "        \n",
    "        in_token_ids = [shared_vocab.get(t, UNK) for t in in_tokens]\n",
    "        source_ids[i, -len(in_token_ids):] = in_token_ids\n",
    "    \n",
    "        out_token_ids = [shared_vocab.get(t, UNK) for t in out_tokens]\n",
    "        target_ids[i, -len(out_token_ids):] = out_token_ids\n",
    "    return source_ids, target_ids"
   ]
  },
  {
   "cell_type": "code",
   "execution_count": 39,
   "metadata": {},
   "outputs": [],
   "source": [
    "X_train, Y_train = vectorise_corpus(de_train, num_train, shared_vocab,\n",
    "                                    word_level_target=False)"
   ]
  },
  {
   "cell_type": "code",
   "execution_count": 40,
   "metadata": {},
   "outputs": [
    {
     "data": {
      "text/plain": [
       "(10000, 16)"
      ]
     },
     "execution_count": 40,
     "metadata": {},
     "output_type": "execute_result"
    }
   ],
   "source": [
    "X_train.shape"
   ]
  },
  {
   "cell_type": "code",
   "execution_count": 41,
   "metadata": {},
   "outputs": [
    {
     "data": {
      "text/plain": [
       "array([ 0, 39, 50, 35, 49, 38, 50, 44, 25,  1,  5, 13, 11, 13,  4, 10], dtype=int32)"
      ]
     },
     "execution_count": 41,
     "metadata": {},
     "output_type": "execute_result"
    }
   ],
   "source": [
    "X_train[0]"
   ]
  },
  {
   "cell_type": "code",
   "execution_count": 42,
   "metadata": {},
   "outputs": [
    {
     "data": {
      "text/plain": [
       "(10000, 16)"
      ]
     },
     "execution_count": 42,
     "metadata": {},
     "output_type": "execute_result"
    }
   ],
   "source": [
    "Y_train.shape"
   ]
  },
  {
   "cell_type": "code",
   "execution_count": 44,
   "metadata": {},
   "outputs": [
    {
     "data": {
      "text/plain": [
       "'einhundert sieben und neunzig tausend neunhundert und sechs'"
      ]
     },
     "execution_count": 44,
     "metadata": {},
     "output_type": "execute_result"
    }
   ],
   "source": [
    "de_train[0]"
   ]
  },
  {
   "cell_type": "code",
   "execution_count": 45,
   "metadata": {},
   "outputs": [
    {
     "data": {
      "text/plain": [
       "'197906'"
      ]
     },
     "execution_count": 45,
     "metadata": {},
     "output_type": "execute_result"
    }
   ],
   "source": [
    "num_train[0]"
   ]
  },
  {
   "cell_type": "code",
   "execution_count": 46,
   "metadata": {},
   "outputs": [
    {
     "data": {
      "text/plain": [
       "array([ 0, 39, 50, 35, 49, 38, 50, 44, 25,  1,  5, 13, 11, 13,  4, 10], dtype=int32)"
      ]
     },
     "execution_count": 46,
     "metadata": {},
     "output_type": "execute_result"
    }
   ],
   "source": [
    "X_train[0]"
   ]
  },
  {
   "cell_type": "code",
   "execution_count": 47,
   "metadata": {},
   "outputs": [
    {
     "data": {
      "text/plain": [
       "array([ 0,  0,  0,  0,  0,  0,  0,  0,  0,  5, 13, 11, 13,  4, 10,  2], dtype=int32)"
      ]
     },
     "execution_count": 47,
     "metadata": {},
     "output_type": "execute_result"
    }
   ],
   "source": [
    "Y_train[0]"
   ]
  },
  {
   "cell_type": "markdown",
   "metadata": {},
   "source": [
    "This looks good. In particular we can note:\n",
    "\n",
    "- the PAD=0 symbol at the beginning of the two sequences,\n",
    "- the input sequence has the GO=1 symbol to separate the source from the target,\n",
    "- the output sequence is a shifted version of the target and ends with EOS=2.\n",
    "\n",
    "Let's vectorise the validation and test set to be able to evaluate our models:"
   ]
  },
  {
   "cell_type": "code",
   "execution_count": 48,
   "metadata": {},
   "outputs": [],
   "source": [
    "X_val, Y_val = vectorise_corpus(de_val, num_val, shared_vocab,\n",
    "                                word_level_target=False)\n",
    "X_test, Y_test = vectorise_corpus(de_test, num_test, shared_vocab,\n",
    "                                  word_level_target=False)"
   ]
  },
  {
   "cell_type": "code",
   "execution_count": 49,
   "metadata": {},
   "outputs": [
    {
     "data": {
      "text/plain": [
       "((5000, 16), (5000, 16))"
      ]
     },
     "execution_count": 49,
     "metadata": {},
     "output_type": "execute_result"
    }
   ],
   "source": [
    "X_val.shape, Y_val.shape"
   ]
  },
  {
   "cell_type": "code",
   "execution_count": 50,
   "metadata": {},
   "outputs": [
    {
     "data": {
      "text/plain": [
       "((5000, 16), (5000, 16))"
      ]
     },
     "execution_count": 50,
     "metadata": {},
     "output_type": "execute_result"
    }
   ],
   "source": [
    "X_test.shape, Y_test.shape"
   ]
  },
  {
   "cell_type": "markdown",
   "metadata": {},
   "source": [
    "### A simple Seq2Seq architecture\n",
    "\n",
    "To keep the architecture simple we will use the same RNN model and weights for both the encoder part (before the `_GO` token) and the decoder part (after the `_GO` token).\n",
    "\n",
    "We are using the GRU recurrent cell instead of a LSTM because it is slightly faster to compute and should give comparable results.\n",
    "\n",
    "Building a Seq2Seq model:\n",
    "  - Starting with an Embedding layer;\n",
    "  - Then a single GRU layer: the GRU layer should yield a sequence of output vectors, one at each timestep;\n",
    "  - Then a Dense layer to adapt the ouput dimension of the GRU layer to the dimension of the output vocabulary;\n",
    "  - Don't forget to insert some Dropout layer(s), especially after the Embedding layer.\n",
    "\n",
    "Note:\n",
    "- The output dimension of the Embedding layer should be smaller than usual because we have small vocabulary size;\n",
    "- The dimension of the GRU should be larger to give the Seq2Seq model enough \"working memory\" to memorize the full input sequence before decoding it;\n",
    "- Your model should output a shape `[batch, sequence_length, vocab_size]`."
   ]
  },
  {
   "cell_type": "code",
   "execution_count": 98,
   "metadata": {},
   "outputs": [],
   "source": [
    "from keras.models import Sequential\n",
    "from keras.layers import Embedding, Dropout, GRU, Dense\n",
    "\n",
    "vocab_size = len(shared_vocab)\n",
    "simple_seq2seq = Sequential()\n",
    "simple_seq2seq.add(Embedding(vocab_size, 32, input_length=max_length))\n",
    "simple_seq2seq.add(Dropout(0.2))\n",
    "simple_seq2seq.add(GRU(256, return_sequences=True))\n",
    "simple_seq2seq.add(Dense(vocab_size, activation='softmax'))\n",
    "\n",
    "# We use the sparse_categorical_crossentropy loss to be able to pass\n",
    "# integer-coded output for the token IDs without having to convert to one-hot\n",
    "# codes first\n",
    "simple_seq2seq.compile(optimizer='adam', loss='sparse_categorical_crossentropy')"
   ]
  },
  {
   "cell_type": "markdown",
   "metadata": {},
   "source": [
    "**Questions**:\n",
    "\n",
    "- What is the expected shape of the output of the model when we feed it with an input of 16 tokens? What is the meaning of the values in the output of the model?\n",
    "- What is the shape of the output of each layer in the model?"
   ]
  },
  {
   "cell_type": "code",
   "execution_count": 99,
   "metadata": {},
   "outputs": [
    {
     "data": {
      "text/plain": [
       "(16,)"
      ]
     },
     "execution_count": 99,
     "metadata": {},
     "output_type": "execute_result"
    }
   ],
   "source": [
    "X_train[0].shape"
   ]
  },
  {
   "cell_type": "code",
   "execution_count": 100,
   "metadata": {},
   "outputs": [
    {
     "data": {
      "text/plain": [
       "(1, 16, 62)"
      ]
     },
     "execution_count": 100,
     "metadata": {},
     "output_type": "execute_result"
    }
   ],
   "source": [
    "simple_seq2seq.predict(X_train[0:1]).shape"
   ]
  },
  {
   "cell_type": "code",
   "execution_count": 101,
   "metadata": {},
   "outputs": [
    {
     "name": "stdout",
     "output_type": "stream",
     "text": [
      "_________________________________________________________________\n",
      "Layer (type)                 Output Shape              Param #   \n",
      "=================================================================\n",
      "embedding_2 (Embedding)      (None, 16, 32)            1984      \n",
      "_________________________________________________________________\n",
      "dropout_2 (Dropout)          (None, 16, 32)            0         \n",
      "_________________________________________________________________\n",
      "gru_2 (GRU)                  (None, 16, 256)           221952    \n",
      "_________________________________________________________________\n",
      "dense_2 (Dense)              (None, 16, 62)            15934     \n",
      "=================================================================\n",
      "Total params: 239,870\n",
      "Trainable params: 239,870\n",
      "Non-trainable params: 0\n",
      "_________________________________________________________________\n"
     ]
    }
   ],
   "source": [
    "simple_seq2seq.summary()"
   ]
  },
  {
   "cell_type": "markdown",
   "metadata": {},
   "source": [
    "Let's register a callback to automatically snapshot the best model by measuring the performance of the model on the validation set at the end of each epoch during training:"
   ]
  },
  {
   "cell_type": "code",
   "execution_count": 102,
   "metadata": {},
   "outputs": [],
   "source": [
    "from keras.callbacks import ModelCheckpoint\n",
    "from keras.models import load_model\n",
    "\n",
    "\n",
    "best_model_fname = \"simple_seq2seq_checkpoint.h5\"\n",
    "best_model_cb = ModelCheckpoint(best_model_fname, monitor='val_loss',\n",
    "                                save_best_only=True, verbose=1)"
   ]
  },
  {
   "cell_type": "markdown",
   "metadata": {},
   "source": [
    "We need to use the `np.expand_dims` trick on Y: this is required by Keras because if we use a sparse (integer-based) representation for the output:"
   ]
  },
  {
   "cell_type": "code",
   "execution_count": 103,
   "metadata": {
    "scrolled": false
   },
   "outputs": [
    {
     "name": "stdout",
     "output_type": "stream",
     "text": [
      "Train on 10000 samples, validate on 5000 samples\n",
      "Epoch 1/90\n",
      " - 12s - loss: 1.1229 - val_loss: 0.8007\n",
      "\n",
      "Epoch 00001: val_loss improved from inf to 0.80065, saving model to simple_seq2seq_checkpoint.h5\n",
      "Epoch 2/90\n",
      " - 11s - loss: 0.7805 - val_loss: 0.7631\n",
      "\n",
      "Epoch 00002: val_loss improved from 0.80065 to 0.76312, saving model to simple_seq2seq_checkpoint.h5\n",
      "Epoch 3/90\n",
      " - 11s - loss: 0.7451 - val_loss: 0.7054\n",
      "\n",
      "Epoch 00003: val_loss improved from 0.76312 to 0.70539, saving model to simple_seq2seq_checkpoint.h5\n",
      "Epoch 4/90\n",
      " - 11s - loss: 0.6745 - val_loss: 0.6243\n",
      "\n",
      "Epoch 00004: val_loss improved from 0.70539 to 0.62432, saving model to simple_seq2seq_checkpoint.h5\n",
      "Epoch 5/90\n",
      " - 11s - loss: 0.5989 - val_loss: 0.5345\n",
      "\n",
      "Epoch 00005: val_loss improved from 0.62432 to 0.53448, saving model to simple_seq2seq_checkpoint.h5\n",
      "Epoch 6/90\n",
      " - 11s - loss: 0.5119 - val_loss: 0.4515\n",
      "\n",
      "Epoch 00006: val_loss improved from 0.53448 to 0.45153, saving model to simple_seq2seq_checkpoint.h5\n",
      "Epoch 7/90\n",
      " - 11s - loss: 0.4250 - val_loss: 0.3934\n",
      "\n",
      "Epoch 00007: val_loss improved from 0.45153 to 0.39341, saving model to simple_seq2seq_checkpoint.h5\n",
      "Epoch 8/90\n",
      " - 11s - loss: 0.3486 - val_loss: 0.2888\n",
      "\n",
      "Epoch 00008: val_loss improved from 0.39341 to 0.28881, saving model to simple_seq2seq_checkpoint.h5\n",
      "Epoch 9/90\n",
      " - 11s - loss: 0.2656 - val_loss: 0.1903\n",
      "\n",
      "Epoch 00009: val_loss improved from 0.28881 to 0.19027, saving model to simple_seq2seq_checkpoint.h5\n",
      "Epoch 10/90\n",
      " - 11s - loss: 0.1873 - val_loss: 0.1286\n",
      "\n",
      "Epoch 00010: val_loss improved from 0.19027 to 0.12862, saving model to simple_seq2seq_checkpoint.h5\n",
      "Epoch 11/90\n",
      " - 11s - loss: 0.1284 - val_loss: 0.0772\n",
      "\n",
      "Epoch 00011: val_loss improved from 0.12862 to 0.07723, saving model to simple_seq2seq_checkpoint.h5\n",
      "Epoch 12/90\n",
      " - 12s - loss: 0.0895 - val_loss: 0.0544\n",
      "\n",
      "Epoch 00012: val_loss improved from 0.07723 to 0.05442, saving model to simple_seq2seq_checkpoint.h5\n",
      "Epoch 13/90\n",
      " - 11s - loss: 0.0650 - val_loss: 0.0356\n",
      "\n",
      "Epoch 00013: val_loss improved from 0.05442 to 0.03556, saving model to simple_seq2seq_checkpoint.h5\n",
      "Epoch 14/90\n",
      " - 11s - loss: 0.0486 - val_loss: 0.0288\n",
      "\n",
      "Epoch 00014: val_loss improved from 0.03556 to 0.02878, saving model to simple_seq2seq_checkpoint.h5\n",
      "Epoch 15/90\n",
      " - 12s - loss: 0.0400 - val_loss: 0.0242\n",
      "\n",
      "Epoch 00015: val_loss improved from 0.02878 to 0.02419, saving model to simple_seq2seq_checkpoint.h5\n",
      "Epoch 16/90\n",
      " - 11s - loss: 0.0314 - val_loss: 0.0255\n",
      "\n",
      "Epoch 00016: val_loss did not improve from 0.02419\n",
      "Epoch 17/90\n",
      " - 12s - loss: 0.0263 - val_loss: 0.0143\n",
      "\n",
      "Epoch 00017: val_loss improved from 0.02419 to 0.01433, saving model to simple_seq2seq_checkpoint.h5\n",
      "Epoch 18/90\n",
      " - 11s - loss: 0.0235 - val_loss: 0.0091\n",
      "\n",
      "Epoch 00018: val_loss improved from 0.01433 to 0.00912, saving model to simple_seq2seq_checkpoint.h5\n",
      "Epoch 19/90\n",
      " - 11s - loss: 0.0181 - val_loss: 0.0128\n",
      "\n",
      "Epoch 00019: val_loss did not improve from 0.00912\n",
      "Epoch 20/90\n",
      " - 12s - loss: 0.0258 - val_loss: 0.0096\n",
      "\n",
      "Epoch 00020: val_loss did not improve from 0.00912\n",
      "Epoch 21/90\n",
      " - 12s - loss: 0.0134 - val_loss: 0.0099\n",
      "\n",
      "Epoch 00021: val_loss did not improve from 0.00912\n",
      "Epoch 22/90\n",
      " - 11s - loss: 0.0139 - val_loss: 0.0068\n",
      "\n",
      "Epoch 00022: val_loss improved from 0.00912 to 0.00685, saving model to simple_seq2seq_checkpoint.h5\n",
      "Epoch 23/90\n",
      " - 11s - loss: 0.0155 - val_loss: 0.0107\n",
      "\n",
      "Epoch 00023: val_loss did not improve from 0.00685\n",
      "Epoch 24/90\n",
      " - 11s - loss: 0.0092 - val_loss: 0.0034\n",
      "\n",
      "Epoch 00024: val_loss improved from 0.00685 to 0.00344, saving model to simple_seq2seq_checkpoint.h5\n",
      "Epoch 25/90\n",
      " - 12s - loss: 0.0083 - val_loss: 0.0059\n",
      "\n",
      "Epoch 00025: val_loss did not improve from 0.00344\n",
      "Epoch 26/90\n",
      " - 11s - loss: 0.0100 - val_loss: 0.0062\n",
      "\n",
      "Epoch 00026: val_loss did not improve from 0.00344\n",
      "Epoch 27/90\n",
      " - 11s - loss: 0.0083 - val_loss: 0.0049\n",
      "\n",
      "Epoch 00027: val_loss did not improve from 0.00344\n",
      "Epoch 28/90\n",
      " - 11s - loss: 0.0100 - val_loss: 0.0089\n",
      "\n",
      "Epoch 00028: val_loss did not improve from 0.00344\n",
      "Epoch 29/90\n",
      " - 12s - loss: 0.0135 - val_loss: 0.0029\n",
      "\n",
      "Epoch 00029: val_loss improved from 0.00344 to 0.00286, saving model to simple_seq2seq_checkpoint.h5\n",
      "Epoch 30/90\n",
      " - 11s - loss: 0.0083 - val_loss: 0.0073\n",
      "\n",
      "Epoch 00030: val_loss did not improve from 0.00286\n",
      "Epoch 31/90\n",
      " - 11s - loss: 0.0045 - val_loss: 0.0058\n",
      "\n",
      "Epoch 00031: val_loss did not improve from 0.00286\n",
      "Epoch 32/90\n",
      " - 11s - loss: 0.0130 - val_loss: 0.0041\n",
      "\n",
      "Epoch 00032: val_loss did not improve from 0.00286\n",
      "Epoch 33/90\n",
      " - 11s - loss: 0.0049 - val_loss: 0.0022\n",
      "\n",
      "Epoch 00033: val_loss improved from 0.00286 to 0.00220, saving model to simple_seq2seq_checkpoint.h5\n",
      "Epoch 34/90\n",
      " - 11s - loss: 0.0034 - val_loss: 0.0025\n",
      "\n",
      "Epoch 00034: val_loss did not improve from 0.00220\n",
      "Epoch 35/90\n",
      " - 11s - loss: 0.0053 - val_loss: 0.0027\n",
      "\n",
      "Epoch 00035: val_loss did not improve from 0.00220\n",
      "Epoch 36/90\n",
      " - 11s - loss: 0.0042 - val_loss: 0.0055\n",
      "\n",
      "Epoch 00036: val_loss did not improve from 0.00220\n",
      "Epoch 37/90\n",
      " - 11s - loss: 0.0050 - val_loss: 0.0034\n",
      "\n",
      "Epoch 00037: val_loss did not improve from 0.00220\n",
      "Epoch 38/90\n",
      " - 11s - loss: 0.0113 - val_loss: 0.0141\n",
      "\n",
      "Epoch 00038: val_loss did not improve from 0.00220\n",
      "Epoch 39/90\n",
      " - 11s - loss: 0.0058 - val_loss: 0.0015\n",
      "\n",
      "Epoch 00039: val_loss improved from 0.00220 to 0.00149, saving model to simple_seq2seq_checkpoint.h5\n",
      "Epoch 40/90\n",
      " - 11s - loss: 0.0029 - val_loss: 0.0015\n",
      "\n",
      "Epoch 00040: val_loss improved from 0.00149 to 0.00148, saving model to simple_seq2seq_checkpoint.h5\n",
      "Epoch 41/90\n",
      " - 11s - loss: 0.0024 - val_loss: 0.0012\n",
      "\n",
      "Epoch 00041: val_loss improved from 0.00148 to 0.00122, saving model to simple_seq2seq_checkpoint.h5\n",
      "Epoch 42/90\n",
      " - 11s - loss: 0.0038 - val_loss: 0.0026\n",
      "\n",
      "Epoch 00042: val_loss did not improve from 0.00122\n",
      "Epoch 43/90\n",
      " - 11s - loss: 0.0071 - val_loss: 0.0034\n",
      "\n",
      "Epoch 00043: val_loss did not improve from 0.00122\n",
      "Epoch 44/90\n",
      " - 12s - loss: 0.0046 - val_loss: 0.0020\n",
      "\n",
      "Epoch 00044: val_loss did not improve from 0.00122\n",
      "Epoch 45/90\n",
      " - 12s - loss: 0.0036 - val_loss: 0.0028\n",
      "\n",
      "Epoch 00045: val_loss did not improve from 0.00122\n",
      "Epoch 46/90\n",
      " - 11s - loss: 0.0022 - val_loss: 0.0036\n",
      "\n",
      "Epoch 00046: val_loss did not improve from 0.00122\n",
      "Epoch 47/90\n",
      " - 11s - loss: 0.0030 - val_loss: 0.0021\n",
      "\n",
      "Epoch 00047: val_loss did not improve from 0.00122\n",
      "Epoch 48/90\n",
      " - 11s - loss: 0.0038 - val_loss: 0.0024\n",
      "\n",
      "Epoch 00048: val_loss did not improve from 0.00122\n",
      "Epoch 49/90\n",
      " - 11s - loss: 0.0095 - val_loss: 0.0084\n",
      "\n",
      "Epoch 00049: val_loss did not improve from 0.00122\n",
      "Epoch 50/90\n",
      " - 11s - loss: 0.0039 - val_loss: 0.0014\n",
      "\n",
      "Epoch 00050: val_loss did not improve from 0.00122\n",
      "Epoch 51/90\n",
      " - 11s - loss: 0.0028 - val_loss: 9.5684e-04\n",
      "\n",
      "Epoch 00051: val_loss improved from 0.00122 to 0.00096, saving model to simple_seq2seq_checkpoint.h5\n",
      "Epoch 52/90\n",
      " - 11s - loss: 0.0023 - val_loss: 0.0015\n",
      "\n",
      "Epoch 00052: val_loss did not improve from 0.00096\n",
      "Epoch 53/90\n",
      " - 11s - loss: 0.0020 - val_loss: 0.0019\n",
      "\n",
      "Epoch 00053: val_loss did not improve from 0.00096\n",
      "Epoch 54/90\n",
      " - 11s - loss: 0.0034 - val_loss: 0.0035\n",
      "\n",
      "Epoch 00054: val_loss did not improve from 0.00096\n",
      "Epoch 55/90\n",
      " - 11s - loss: 0.0036 - val_loss: 0.0021\n",
      "\n",
      "Epoch 00055: val_loss did not improve from 0.00096\n",
      "Epoch 56/90\n",
      " - 12s - loss: 0.0045 - val_loss: 0.0024\n",
      "\n",
      "Epoch 00056: val_loss did not improve from 0.00096\n",
      "Epoch 57/90\n",
      " - 11s - loss: 0.0032 - val_loss: 0.0019\n",
      "\n",
      "Epoch 00057: val_loss did not improve from 0.00096\n",
      "Epoch 58/90\n",
      " - 11s - loss: 0.0021 - val_loss: 0.0016\n",
      "\n",
      "Epoch 00058: val_loss did not improve from 0.00096\n",
      "Epoch 59/90\n",
      " - 11s - loss: 0.0019 - val_loss: 0.0012\n",
      "\n",
      "Epoch 00059: val_loss did not improve from 0.00096\n",
      "Epoch 60/90\n",
      " - 12s - loss: 0.0021 - val_loss: 0.0012\n",
      "\n",
      "Epoch 00060: val_loss did not improve from 0.00096\n",
      "Epoch 61/90\n",
      " - 11s - loss: 0.0048 - val_loss: 0.0090\n",
      "\n",
      "Epoch 00061: val_loss did not improve from 0.00096\n",
      "Epoch 62/90\n",
      " - 12s - loss: 0.0050 - val_loss: 0.0024\n",
      "\n",
      "Epoch 00062: val_loss did not improve from 0.00096\n",
      "Epoch 63/90\n",
      " - 11s - loss: 0.0023 - val_loss: 0.0026\n",
      "\n",
      "Epoch 00063: val_loss did not improve from 0.00096\n",
      "Epoch 64/90\n",
      " - 11s - loss: 0.0013 - val_loss: 0.0030\n",
      "\n",
      "Epoch 00064: val_loss did not improve from 0.00096\n",
      "Epoch 65/90\n",
      " - 11s - loss: 0.0012 - val_loss: 5.1695e-04\n",
      "\n",
      "Epoch 00065: val_loss improved from 0.00096 to 0.00052, saving model to simple_seq2seq_checkpoint.h5\n",
      "Epoch 66/90\n",
      " - 13s - loss: 0.0019 - val_loss: 0.0013\n"
     ]
    },
    {
     "name": "stdout",
     "output_type": "stream",
     "text": [
      "\n",
      "Epoch 00066: val_loss did not improve from 0.00052\n",
      "Epoch 67/90\n",
      " - 11s - loss: 0.0014 - val_loss: 0.0012\n",
      "\n",
      "Epoch 00067: val_loss did not improve from 0.00052\n",
      "Epoch 68/90\n",
      " - 11s - loss: 0.0031 - val_loss: 0.0018\n",
      "\n",
      "Epoch 00068: val_loss did not improve from 0.00052\n",
      "Epoch 69/90\n",
      " - 13s - loss: 0.0036 - val_loss: 0.0017\n",
      "\n",
      "Epoch 00069: val_loss did not improve from 0.00052\n",
      "Epoch 70/90\n",
      " - 11s - loss: 0.0041 - val_loss: 0.0012\n",
      "\n",
      "Epoch 00070: val_loss did not improve from 0.00052\n",
      "Epoch 71/90\n",
      " - 12s - loss: 0.0040 - val_loss: 0.0013\n",
      "\n",
      "Epoch 00071: val_loss did not improve from 0.00052\n",
      "Epoch 72/90\n",
      " - 12s - loss: 0.0014 - val_loss: 7.4480e-04\n",
      "\n",
      "Epoch 00072: val_loss did not improve from 0.00052\n",
      "Epoch 73/90\n",
      " - 13s - loss: 8.4343e-04 - val_loss: 5.5346e-04\n",
      "\n",
      "Epoch 00073: val_loss did not improve from 0.00052\n",
      "Epoch 74/90\n",
      " - 12s - loss: 0.0014 - val_loss: 0.0014\n",
      "\n",
      "Epoch 00074: val_loss did not improve from 0.00052\n",
      "Epoch 75/90\n",
      " - 12s - loss: 0.0016 - val_loss: 0.0017\n",
      "\n",
      "Epoch 00075: val_loss did not improve from 0.00052\n",
      "Epoch 76/90\n",
      " - 13s - loss: 0.0017 - val_loss: 0.0028\n",
      "\n",
      "Epoch 00076: val_loss did not improve from 0.00052\n",
      "Epoch 77/90\n",
      " - 12s - loss: 0.0049 - val_loss: 0.0039\n",
      "\n",
      "Epoch 00077: val_loss did not improve from 0.00052\n",
      "Epoch 78/90\n",
      " - 11s - loss: 0.0027 - val_loss: 0.0013\n",
      "\n",
      "Epoch 00078: val_loss did not improve from 0.00052\n",
      "Epoch 79/90\n",
      " - 12s - loss: 0.0012 - val_loss: 3.8649e-04\n",
      "\n",
      "Epoch 00079: val_loss improved from 0.00052 to 0.00039, saving model to simple_seq2seq_checkpoint.h5\n",
      "Epoch 80/90\n",
      " - 11s - loss: 9.7603e-04 - val_loss: 7.4431e-04\n",
      "\n",
      "Epoch 00080: val_loss did not improve from 0.00039\n",
      "Epoch 81/90\n",
      " - 11s - loss: 0.0020 - val_loss: 0.0026\n",
      "\n",
      "Epoch 00081: val_loss did not improve from 0.00039\n",
      "Epoch 82/90\n",
      " - 12s - loss: 0.0026 - val_loss: 6.3642e-04\n",
      "\n",
      "Epoch 00082: val_loss did not improve from 0.00039\n",
      "Epoch 83/90\n",
      " - 11s - loss: 9.1068e-04 - val_loss: 0.0012\n",
      "\n",
      "Epoch 00083: val_loss did not improve from 0.00039\n",
      "Epoch 84/90\n",
      " - 12s - loss: 0.0018 - val_loss: 0.0019\n",
      "\n",
      "Epoch 00084: val_loss did not improve from 0.00039\n",
      "Epoch 85/90\n",
      " - 12s - loss: 0.0012 - val_loss: 0.0013\n",
      "\n",
      "Epoch 00085: val_loss did not improve from 0.00039\n",
      "Epoch 86/90\n",
      " - 11s - loss: 0.0027 - val_loss: 9.2088e-04\n",
      "\n",
      "Epoch 00086: val_loss did not improve from 0.00039\n",
      "Epoch 87/90\n",
      " - 11s - loss: 0.0078 - val_loss: 9.2262e-04\n",
      "\n",
      "Epoch 00087: val_loss did not improve from 0.00039\n",
      "Epoch 88/90\n",
      " - 11s - loss: 0.0011 - val_loss: 0.0012\n",
      "\n",
      "Epoch 00088: val_loss did not improve from 0.00039\n",
      "Epoch 89/90\n",
      " - 11s - loss: 0.0012 - val_loss: 0.0011\n",
      "\n",
      "Epoch 00089: val_loss did not improve from 0.00039\n",
      "Epoch 90/90\n",
      " - 11s - loss: 0.0014 - val_loss: 0.0011\n",
      "\n",
      "Epoch 00090: val_loss did not improve from 0.00039\n"
     ]
    },
    {
     "data": {
      "text/plain": [
       "Text(0.5,1,'Convergence plot for Simple Seq2Seq')"
      ]
     },
     "execution_count": 103,
     "metadata": {},
     "output_type": "execute_result"
    },
    {
     "data": {
      "image/png": "[encoded data removed]",
      "text/plain": [
       "<Figure size 864x432 with 1 Axes>"
      ]
     },
     "metadata": {},
     "output_type": "display_data"
    }
   ],
   "source": [
    "%matplotlib inline\n",
    "import matplotlib.pyplot as plt\n",
    "\n",
    "history = simple_seq2seq.fit(X_train, np.expand_dims(Y_train, -1),\n",
    "                             validation_data=(X_val, np.expand_dims(Y_val, -1)),\n",
    "                             epochs=90, verbose=2, batch_size=32,\n",
    "                             callbacks=[best_model_cb])\n",
    "\n",
    "plt.figure(figsize=(12, 6))\n",
    "plt.plot(history.history['loss'], label='train')\n",
    "plt.plot(history.history['val_loss'], '--', label='validation')\n",
    "plt.ylabel('negative log likelihood')\n",
    "plt.xlabel('epoch')\n",
    "plt.title('Convergence plot for Simple Seq2Seq')"
   ]
  },
  {
   "cell_type": "markdown",
   "metadata": {},
   "source": [
    "Let's load the best model found on the validation set at the end of training:"
   ]
  },
  {
   "cell_type": "code",
   "execution_count": 105,
   "metadata": {},
   "outputs": [],
   "source": [
    "loaded_simple_seq2seq = load_model(best_model_fname)"
   ]
  },
  {
   "cell_type": "markdown",
   "metadata": {},
   "source": [
    "Let's see how wel our model does on this fairly simple task. For anything reasonable we should train for mayb 50 epochs. To get rid of errors probably train for 150 epochs."
   ]
  },
  {
   "cell_type": "markdown",
   "metadata": {},
   "source": [
    "Let's have a look at a raw prediction on the first sample of the test set:"
   ]
  },
  {
   "cell_type": "code",
   "execution_count": 104,
   "metadata": {},
   "outputs": [
    {
     "data": {
      "text/plain": [
       "'achthundert ein und neunzig tausend einhundert und drei'"
      ]
     },
     "execution_count": 104,
     "metadata": {},
     "output_type": "execute_result"
    }
   ],
   "source": [
    "de_test[0]"
   ]
  },
  {
   "cell_type": "markdown",
   "metadata": {},
   "source": [
    "In the numeric array this is provided (along with the expected target sequence) as the following padded input sequence:"
   ]
  },
  {
   "cell_type": "code",
   "execution_count": 106,
   "metadata": {},
   "outputs": [
    {
     "data": {
      "text/plain": [
       "array([[ 0, 19, 50, 25, 49, 38, 50, 24, 15,  1, 12, 13,  5,  5,  4,  7]], dtype=int32)"
      ]
     },
     "execution_count": 106,
     "metadata": {},
     "output_type": "execute_result"
    }
   ],
   "source": [
    "first_test_sequence = X_test[0:1]\n",
    "first_test_sequence"
   ]
  },
  {
   "cell_type": "markdown",
   "metadata": {},
   "source": [
    "Maybe scroll up to find the table translating integer tokens into the actual numbers.\n",
    "\n",
    "Remember that the `_GO` (symbol indexed at `1`) separates the reversed source from the expected target sequence:  "
   ]
  },
  {
   "cell_type": "code",
   "execution_count": 107,
   "metadata": {},
   "outputs": [
    {
     "data": {
      "text/plain": [
       "'_GO'"
      ]
     },
     "execution_count": 107,
     "metadata": {},
     "output_type": "execute_result"
    }
   ],
   "source": [
    "rev_shared_vocab[1]"
   ]
  },
  {
   "cell_type": "markdown",
   "metadata": {},
   "source": [
    "### Interpreting the model prediction\n",
    "\n",
    "Let's feed a test sequence into the model. For each predicted output we get the argmax (to get the most likely symbol) and put that into our output.\n",
    "\n",
    "We also have to get rid of our padding and turn it back into a human friendly text."
   ]
  },
  {
   "cell_type": "code",
   "execution_count": 108,
   "metadata": {},
   "outputs": [
    {
     "name": "stdout",
     "output_type": "stream",
     "text": [
      "prediction shape: (1, 16, 62)\n",
      "prediction token ids: [ 0  0  0  0  0  0  0  0  0 12 13  5  5  4  7  2]\n",
      "predicted number: 891103\n",
      "test number: 891103\n"
     ]
    }
   ],
   "source": [
    "prediction = simple_seq2seq.predict(first_test_sequence)\n",
    "print(\"prediction shape:\", prediction.shape)\n",
    "\n",
    "# Let's use `argmax` to extract the predicted token ids at each step.\n",
    "# what does the last dimension stand for?\n",
    "predicted_token_ids = prediction[0].argmax(-1)\n",
    "print(\"prediction token ids:\", predicted_token_ids)\n",
    "\n",
    "# We can use the shared reverse vocabulary to map\n",
    "# the integer sequence back to the string representation of the tokens,\n",
    "# as well as removing Padding and EOS symbols\n",
    "predicted_numbers = [rev_shared_vocab[token_id] for token_id in predicted_token_ids\n",
    "                     if token_id not in (shared_vocab[PAD], shared_vocab[EOS])]\n",
    "print(\"predicted number:\", \"\".join(predicted_numbers))\n",
    "print(\"test number:\", num_test[0])\n"
   ]
  },
  {
   "cell_type": "markdown",
   "metadata": {},
   "source": [
    "Woohhaayy!! But wait ...\n",
    "\n",
    "In the previous notebook cell we cheated because we gave the complete test sequence to the network as input. Along with the solution!\n",
    "\n",
    "To be more realistic we need to use the model in a setting where we do not provide any token of the expected translation as part of the input sequence: the model has to predict one token at a time starting only from the source sequence along with the `<GO>` special symbol. At each step, we append the newly predicted output token to the input sequence to predict the next token:"
   ]
  },
  {
   "cell_type": "code",
   "execution_count": 111,
   "metadata": {},
   "outputs": [],
   "source": [
    "def greedy_translate(model, source_sequence, shared_vocab, rev_shared_vocab,\n",
    "                     word_level_source=True, word_level_target=True):\n",
    "    \"\"\"Greedy decoder that predicts one token at a time\"\"\"\n",
    "    # Initialise the list of input token IDs with the source sequence\n",
    "    source_tokens = tokenise(source_sequence, word_level=word_level_source)\n",
    "\n",
    "    input_ids = [shared_vocab.get(t, UNK) for t in reversed(source_tokens)]\n",
    "    input_ids += [shared_vocab[GO]]\n",
    "\n",
    "    # Prepare a fixed size numpy array that matches the expected input\n",
    "    # shape for the model\n",
    "    input_array = np.empty(shape=(1, model.input_shape[1]),\n",
    "                           dtype=np.int32)\n",
    "    #print(input_array)\n",
    "    decoded_tokens = []\n",
    "    while len(input_ids) <= max_length:\n",
    "        # Vectorise the list of input tokens\n",
    "        # and use zero padding.\n",
    "        input_array.fill(shared_vocab[PAD])\n",
    "        # clever numpy indexing to set the last part of input_array\n",
    "        input_array[0, -len(input_ids):] = input_ids\n",
    "        \n",
    "        # Predict the next output: greedily decoding with argmax\n",
    "        # we pick the token with the highest probability at this step\n",
    "        next_token_id = model.predict(input_array)[0, -1].argmax()\n",
    "        \n",
    "        # Stop decoding if the network predicts \"end of sentence\":\n",
    "        if next_token_id == shared_vocab[EOS]:\n",
    "            #print(\"done\")\n",
    "            break\n",
    "            \n",
    "        # Otherwise use the reverse vocabulary to map the prediction\n",
    "        # back to the string space\n",
    "        decoded_tokens.append(rev_shared_vocab[next_token_id])\n",
    "        \n",
    "        # Append prediction to input sequence to predict the next token\n",
    "        input_ids.append(next_token_id)\n",
    "\n",
    "    separator = \" \" if word_level_target else \"\"\n",
    "    return separator.join(decoded_tokens)"
   ]
  },
  {
   "cell_type": "code",
   "execution_count": 121,
   "metadata": {},
   "outputs": [
    {
     "name": "stdout",
     "output_type": "stream",
     "text": [
      "eins                 1\n",
      "zwei                 2\n",
      "drei                 3\n",
      "zwoelf               12\n",
      "fuenfzehn            15\n",
      "einhundert sieben und neunzig tausend neunhundert und sechs 197906\n",
      "siebenhundert drei und zwanzig tausend neunhundert sieben und zwanzig 147927\n",
      "zwei und vierzig     42\n",
      "dreihundert zwei und zwanzig 422\n"
     ]
    }
   ],
   "source": [
    "phrases = [\n",
    "    \"eins\",\n",
    "    \"zwei\",\n",
    "    \"drei\",\n",
    "    \"zwoelf\",\n",
    "    \"fuenfzehn\",\n",
    "    \"einhundert sieben und neunzig tausend neunhundert und sechs\",\n",
    "    \"siebenhundert drei und zwanzig tausend neunhundert sieben und zwanzig\",\n",
    "    \"zwei und vierzig\",\n",
    "    \"dreihundert zwei und zwanzig\"\n",
    "]\n",
    "for phrase in phrases:\n",
    "    translation = greedy_translate(#loaded_simple_seq2seq,\n",
    "        simple_seq2seq,\n",
    "                                   phrase,\n",
    "                                   shared_vocab, rev_shared_vocab,\n",
    "                                   word_level_target=False)\n",
    "    print(phrase.ljust(20), translation)"
   ]
  },
  {
   "cell_type": "markdown",
   "metadata": {},
   "source": [
    "If you train the model long enough (~100 epochs) you should be getting pretty good results. After only 15 epochs the network mostly just predicts the `<EOS>` token so it might look like it is not outputting anything/broken."
   ]
  },
  {
   "cell_type": "markdown",
   "metadata": {},
   "source": [
    "## Model evaluation\n",
    "\n",
    "Because we expect only one correct translation for a given source sequence, we can use phrase-level accuracy as a metric to quantify our model quality.\n",
    "\n",
    "Note that this is not the case for real translation models (e.g. from French to English on arbitrary sentences). Evaluation of a machine translation model in general is tricky. Automated evaluation can be done at the corpus level with the [BLEU score](https://en.wikipedia.org/wiki/BLEU) (bilingual evaluation understudy) given a large enough sample of correct translations provided by certified translators but its only a noisy proxy.\n",
    "\n",
    "The only good evaluation is to give a large enough sample of the model predictions on some test sentences to certified translators and ask them to give an evaluation (e.g. a score between 0 and 6, 0 for non-sensical and 6 for the hypothetical perfect translation). However in practice this is very costly to do, so you will almost always see BLEU scores quoted in papers.\n",
    "\n",
    "Fortunately we can just use phrase-level accuracy on a our very domain specific toy problem:"
   ]
  },
  {
   "cell_type": "code",
   "execution_count": 123,
   "metadata": {},
   "outputs": [],
   "source": [
    "def phrase_accuracy(model, num_sequences, de_sequences, n_samples=500,\n",
    "                    decoder_func=greedy_translate):\n",
    "    correct = []\n",
    "    n_samples = len(num_sequences) if n_samples is None else n_samples\n",
    "    for i, num_seq, de_seq in zip(range(n_samples), num_sequences, de_sequences):\n",
    "        if i % 100 == 0:\n",
    "            print(\"Decoding %d/%d\" % (i, n_samples))\n",
    "\n",
    "        predicted_seq = decoder_func(simple_seq2seq, de_seq,\n",
    "                                     shared_vocab, rev_shared_vocab,\n",
    "                                     word_level_target=False)\n",
    "        correct.append(num_seq == predicted_seq)\n",
    "        #if num_seq != predicted_seq:\n",
    "        #    print(num_seq, predicted_seq)\n",
    "    return np.mean(correct)"
   ]
  },
  {
   "cell_type": "code",
   "execution_count": 124,
   "metadata": {},
   "outputs": [
    {
     "name": "stdout",
     "output_type": "stream",
     "text": [
      "Decoding 0/500\n",
      "Decoding 100/500\n",
      "Decoding 200/500\n",
      "Decoding 300/500\n",
      "Decoding 400/500\n",
      "Phrase-level train accuracy: 0.318\n"
     ]
    }
   ],
   "source": [
    "print(\"Phrase-level train accuracy: %0.3f\"\n",
    "      % phrase_accuracy(simple_seq2seq, num_train, de_train))"
   ]
  },
  {
   "cell_type": "code",
   "execution_count": 125,
   "metadata": {},
   "outputs": [
    {
     "name": "stdout",
     "output_type": "stream",
     "text": [
      "Decoding 0/500\n",
      "Decoding 100/500\n",
      "Decoding 200/500\n",
      "Decoding 300/500\n",
      "Decoding 400/500\n",
      "Phrase-level test accuracy: 0.360\n"
     ]
    }
   ],
   "source": [
    "print(\"Phrase-level test accuracy: %0.3f\"\n",
    "      % phrase_accuracy(simple_seq2seq, num_test, de_test))"
   ]
  },
  {
   "cell_type": "code",
   "execution_count": 126,
   "metadata": {},
   "outputs": [
    {
     "name": "stdout",
     "output_type": "stream",
     "text": [
      "Decoding 0/500\n",
      "Decoding 100/500\n",
      "Decoding 200/500\n",
      "Decoding 300/500\n",
      "Decoding 400/500\n",
      "Phrase-level test accuracy: 0.360\n"
     ]
    }
   ],
   "source": [
    "print(\"Phrase-level test accuracy: %0.3f\"\n",
    "      % phrase_accuracy(loaded_simple_seq2seq, num_test, de_test))"
   ]
  },
  {
   "cell_type": "markdown",
   "metadata": {},
   "source": [
    "# Summary\n",
    "\n",
    "seq2seq models are very powerful. You can translate from any kind of sequence to another sequence. This could be Numeric to German, German to Numeric, GitHub issue text to GitHub title, Python docstring to Python source code, ... or German to Klingon.\n",
    "\n",
    "There are a lot of details and tricks of the trade that we skipped over here. If you want to dive deeper follow some of the links below.\n",
    "\n",
    "\n",
    "# Going Further\n",
    "\n",
    "We only scratched the surface of sequence-to-sequence systems. To go further, read the initial [Sequence to Sequence paper](https://arxiv.org/abs/1409.3215) as well as the following developments, citing this work. Furthermore, here are a few pointers on how to go further if you're interested.\n",
    "\n",
    "### Improved model\n",
    "\n",
    "- implement [beam-search](https://en.wikipedia.org/wiki/Beam_search) instead of our greedy decoding.\n",
    "- Add multiple, larger GRU layers and more dropout regularization.\n",
    "- This should make it possible train a perfect translation model with a smaller amount of labeled samples. Try to train a seq2seq model with only 4000 training sequences or even fewer without overfitting.\n",
    "- You will need a GPU and more training time for that...\n",
    "\n",
    "### Reverse translation: Numeric to German\n",
    "\n",
    "- Build a model, with the same data from Numeric to German\n",
    "- The model should work well with the same kind of architecture as for German to Numeric\n",
    "\n",
    "\n",
    "### Separated Encoder-Decoder\n",
    "\n",
    "You may want to build a model with a separated encoder and decoder, to improve performance and to have more flexiblity with the architecture.\n",
    "\n",
    "With Keras, you can get access to the activation states of the LSTM cell by using:\n",
    "\n",
    "```python\n",
    "encoder = LSTM(latent_dim, return_state=True)\n",
    "encoder_outputs, state_h, state_c = encoder(encoder_inputs)\n",
    "encoder_states = [state_h, state_c]\n",
    "```\n",
    "\n",
    "then you can reuse those states to initialize the state of the decoder cell:\n",
    "\n",
    "```python\n",
    "decoder_lstm = LSTM(latent_dim, return_sequences=True, return_state=True)\n",
    "decoder_outputs, _, _ = decoder_lstm(decoder_inputs, initial_state=encoder_states)\n",
    "```\n",
    "\n",
    "A full example of this architecture can be found at:\n",
    "\n",
    "- https://github.com/keras-team/keras/blob/master/examples/lstm_seq2seq.py\n",
    "\n",
    "TensorFlow also has some nice examples: https://www.tensorflow.org/tutorials/seq2seq.\n",
    "\n",
    "The opennmt project is worth looking at too: http://opennmt.net/"
   ]
  },
  {
   "cell_type": "code",
   "execution_count": null,
   "metadata": {
    "collapsed": true
   },
   "outputs": [],
   "source": []
  }
 ],
 "metadata": {
  "kernelspec": {
   "display_name": "Python 3",
   "language": "python",
   "name": "python3"
  },
  "language_info": {
   "codemirror_mode": {
    "name": "ipython",
    "version": 3
   },
   "file_extension": ".py",
   "mimetype": "text/x-python",
   "name": "python",
   "nbconvert_exporter": "python",
   "pygments_lexer": "ipython3",
   "version": "3.6.5"
  }
 },
 "nbformat": 4,
 "nbformat_minor": 2
}
