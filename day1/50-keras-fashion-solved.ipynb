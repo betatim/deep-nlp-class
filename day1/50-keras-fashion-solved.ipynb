{
 "cells": [
  {
   "cell_type": "markdown",
   "metadata": {},
   "source": [
    "# Build a two layer NN with keras\n",
    "\n",
    "Implement our two layer neural network using keras!\n",
    "\n",
    "Start with a neural network that jsut does logistic regression. Make sure you can\n",
    "identify all the pieces from `20-logistic-regression.ipynb` in your keras setup.\n",
    "\n",
    "Once you have your logistic regression model working extend it to have one hidden layer\n",
    "with dimension 20 (or there abouts). Think about what nonlinearity (or activation function) you want to use.\n",
    "\n",
    "Keras documentation: https://keras.io/getting-started/sequential-model-guide/ (note that this uses a slightly different API compared to the previous keras example.)\n",
    "\n",
    "Look at https://keras.io/callbacks/#tensorboard and see what it produces in terms of debugging information in tensorboard."
   ]
  },
  {
   "cell_type": "code",
   "execution_count": 1,
   "metadata": {},
   "outputs": [],
   "source": [
    "%matplotlib inline\n",
    "import matplotlib.pyplot as plt\n",
    "plt.rcParams[\"figure.figsize\"] = (8, 8)\n",
    "plt.rcParams[\"font.size\"] = 14"
   ]
  },
  {
   "cell_type": "code",
   "execution_count": 2,
   "metadata": {},
   "outputs": [
    {
     "name": "stderr",
     "output_type": "stream",
     "text": [
      "Using TensorFlow backend.\n"
     ]
    }
   ],
   "source": [
    "import keras\n",
    "from keras.datasets.mnist import load_data as mnist_data\n",
    "from keras.datasets.fashion_mnist import load_data\n",
    "from keras.layers import Input, Dense, Activation\n",
    "from keras.models import Model\n",
    "\n",
    "# the first time you execute this it will download the\n",
    "# dataset for you from the internet\n",
    "(X_train, y_train), (X_test, y_test) = load_data()\n",
    "\n",
    "X_train = X_train.astype('float32')\n",
    "X_test = X_test.astype('float32')\n",
    "X_train = X_train.reshape(60000, 784)\n",
    "X_test = X_test.reshape(10000, 784)\n",
    "X_train = X_train /255\n",
    "X_test = X_test /255\n",
    "\n",
    "# use a keras builtin utility for the one-hot encoding\n",
    "from keras import utils\n",
    "num_classes = 10\n",
    "y_train = utils.to_categorical(y_train, num_classes)\n",
    "y_test = utils.to_categorical(y_test, num_classes)"
   ]
  },
  {
   "cell_type": "markdown",
   "metadata": {},
   "source": [
    "We are now using slightly larger images. They are 28x28 pixels large and show clothing items. There are ten classes as in the digits dataset. Feel free to reuse soem code from before to visualise examples from the dataset to get a feeling for what is in it. You can find information about the dataset here: https://github.com/zalandoresearch/fashion-mnist\n",
    "\n",
    "The cells below create a logistic regression \"neural network\" like we have done by hand."
   ]
  },
  {
   "cell_type": "code",
   "execution_count": 3,
   "metadata": {
    "inputHidden": false,
    "outputHidden": false
   },
   "outputs": [],
   "source": [
    "# we define the input shape (i.e., how many input features)\n",
    "# **without** the batch size\n",
    "x = Input(shape=(28*28, ))\n",
    "\n",
    "# all Keras Ops look like z = f(z) (think functional programming)\n",
    "# this is how you'd specify a hidden layer of size 20 using the\n",
    "# relu activation function.\n",
    "#h = Dense(20)(x)\n",
    "#h = Activation('relu')(h)\n",
    "\n",
    "# our outputs are 10 numbers, the probability for each class\n",
    "h = Dense(10)(x)\n",
    "y = Activation('softmax')(h)\n",
    "\n",
    "# Package it all up in a Model\n",
    "net = Model(x, y)"
   ]
  },
  {
   "cell_type": "code",
   "execution_count": 4,
   "metadata": {
    "inputHidden": false,
    "outputHidden": false
   },
   "outputs": [],
   "source": [
    "# compile the model\n",
    "net.compile(optimizer='sgd',\n",
    "            loss=keras.losses.categorical_crossentropy,\n",
    "            metrics=['accuracy'])"
   ]
  },
  {
   "cell_type": "code",
   "execution_count": 5,
   "metadata": {
    "inputHidden": false,
    "outputHidden": false
   },
   "outputs": [
    {
     "name": "stdout",
     "output_type": "stream",
     "text": [
      "Train on 48000 samples, validate on 12000 samples\n",
      "Epoch 1/40\n",
      " - 3s - loss: 0.8727 - acc: 0.7238 - val_loss: 0.6588 - val_acc: 0.7883\n",
      "Epoch 2/40\n",
      " - 3s - loss: 0.6189 - acc: 0.8000 - val_loss: 0.5811 - val_acc: 0.8073\n",
      "Epoch 3/40\n",
      " - 2s - loss: 0.5626 - acc: 0.8166 - val_loss: 0.5541 - val_acc: 0.8141\n",
      "Epoch 4/40\n",
      " - 3s - loss: 0.5329 - acc: 0.8256 - val_loss: 0.5247 - val_acc: 0.8231\n",
      "Epoch 5/40\n",
      " - 2s - loss: 0.5130 - acc: 0.8298 - val_loss: 0.5142 - val_acc: 0.8229\n",
      "Epoch 6/40\n",
      " - 3s - loss: 0.4990 - acc: 0.8351 - val_loss: 0.4964 - val_acc: 0.8309\n",
      "Epoch 7/40\n",
      " - 2s - loss: 0.4881 - acc: 0.8366 - val_loss: 0.4919 - val_acc: 0.8297\n",
      "Epoch 8/40\n",
      " - 2s - loss: 0.4795 - acc: 0.8404 - val_loss: 0.4855 - val_acc: 0.8323\n",
      "Epoch 9/40\n",
      " - 2s - loss: 0.4722 - acc: 0.8430 - val_loss: 0.4774 - val_acc: 0.8356\n",
      "Epoch 10/40\n",
      " - 3s - loss: 0.4660 - acc: 0.8445 - val_loss: 0.4717 - val_acc: 0.8369\n",
      "Epoch 11/40\n",
      " - 3s - loss: 0.4608 - acc: 0.8459 - val_loss: 0.4658 - val_acc: 0.8395\n",
      "Epoch 12/40\n",
      " - 3s - loss: 0.4558 - acc: 0.8469 - val_loss: 0.4628 - val_acc: 0.8392\n",
      "Epoch 13/40\n",
      " - 3s - loss: 0.4520 - acc: 0.8473 - val_loss: 0.4597 - val_acc: 0.8417\n",
      "Epoch 14/40\n",
      " - 3s - loss: 0.4486 - acc: 0.8494 - val_loss: 0.4591 - val_acc: 0.8413\n",
      "Epoch 15/40\n",
      " - 2s - loss: 0.4452 - acc: 0.8499 - val_loss: 0.4554 - val_acc: 0.8445\n",
      "Epoch 16/40\n",
      " - 3s - loss: 0.4424 - acc: 0.8505 - val_loss: 0.4522 - val_acc: 0.8424\n",
      "Epoch 17/40\n",
      " - 3s - loss: 0.4393 - acc: 0.8513 - val_loss: 0.4505 - val_acc: 0.8443\n",
      "Epoch 18/40\n",
      " - 3s - loss: 0.4372 - acc: 0.8525 - val_loss: 0.4491 - val_acc: 0.8460\n",
      "Epoch 19/40\n",
      " - 2s - loss: 0.4345 - acc: 0.8534 - val_loss: 0.4471 - val_acc: 0.8464\n",
      "Epoch 20/40\n",
      " - 2s - loss: 0.4328 - acc: 0.8522 - val_loss: 0.4459 - val_acc: 0.8448\n",
      "Epoch 21/40\n",
      " - 2s - loss: 0.4308 - acc: 0.8537 - val_loss: 0.4444 - val_acc: 0.8462\n",
      "Epoch 22/40\n",
      " - 2s - loss: 0.4289 - acc: 0.8545 - val_loss: 0.4415 - val_acc: 0.8478\n",
      "Epoch 23/40\n",
      " - 2s - loss: 0.4272 - acc: 0.8546 - val_loss: 0.4404 - val_acc: 0.8477\n",
      "Epoch 24/40\n",
      " - 3s - loss: 0.4251 - acc: 0.8559 - val_loss: 0.4409 - val_acc: 0.8482\n",
      "Epoch 25/40\n",
      " - 3s - loss: 0.4240 - acc: 0.8548 - val_loss: 0.4383 - val_acc: 0.8497\n",
      "Epoch 26/40\n",
      " - 3s - loss: 0.4224 - acc: 0.8558 - val_loss: 0.4373 - val_acc: 0.8464\n",
      "Epoch 27/40\n",
      " - 3s - loss: 0.4210 - acc: 0.8565 - val_loss: 0.4348 - val_acc: 0.8496\n",
      "Epoch 28/40\n",
      " - 3s - loss: 0.4195 - acc: 0.8568 - val_loss: 0.4354 - val_acc: 0.8507\n",
      "Epoch 29/40\n",
      " - 3s - loss: 0.4182 - acc: 0.8575 - val_loss: 0.4344 - val_acc: 0.8510\n",
      "Epoch 30/40\n",
      " - 3s - loss: 0.4172 - acc: 0.8576 - val_loss: 0.4325 - val_acc: 0.8515\n",
      "Epoch 31/40\n",
      " - 2s - loss: 0.4160 - acc: 0.8572 - val_loss: 0.4319 - val_acc: 0.8516\n",
      "Epoch 32/40\n",
      " - 2s - loss: 0.4150 - acc: 0.8585 - val_loss: 0.4310 - val_acc: 0.8519\n",
      "Epoch 33/40\n",
      " - 3s - loss: 0.4139 - acc: 0.8591 - val_loss: 0.4324 - val_acc: 0.8523\n",
      "Epoch 34/40\n",
      " - 3s - loss: 0.4128 - acc: 0.8589 - val_loss: 0.4312 - val_acc: 0.8517\n",
      "Epoch 35/40\n",
      " - 3s - loss: 0.4120 - acc: 0.8590 - val_loss: 0.4299 - val_acc: 0.8524\n",
      "Epoch 36/40\n",
      " - 3s - loss: 0.4113 - acc: 0.8598 - val_loss: 0.4287 - val_acc: 0.8532\n",
      "Epoch 37/40\n",
      " - 3s - loss: 0.4101 - acc: 0.8608 - val_loss: 0.4276 - val_acc: 0.8547\n",
      "Epoch 38/40\n",
      " - 3s - loss: 0.4093 - acc: 0.8603 - val_loss: 0.4278 - val_acc: 0.8532\n",
      "Epoch 39/40\n",
      " - 3s - loss: 0.4083 - acc: 0.8606 - val_loss: 0.4280 - val_acc: 0.8528\n",
      "Epoch 40/40\n",
      " - 3s - loss: 0.4077 - acc: 0.8610 - val_loss: 0.4286 - val_acc: 0.8540\n"
     ]
    }
   ],
   "source": [
    "history = net.fit(X_train, y_train, validation_split=0.2,\n",
    "                  epochs=40, verbose=2)"
   ]
  },
  {
   "cell_type": "code",
   "execution_count": 6,
   "metadata": {
    "inputHidden": false,
    "outputHidden": false
   },
   "outputs": [
    {
     "data": {
      "text/plain": [
       "<matplotlib.legend.Legend at 0x1304e2da0>"
      ]
     },
     "execution_count": 6,
     "metadata": {},
     "output_type": "execute_result"
    },
    {
     "data": {
      "image/png": "[encoded data removed]",
      "text/plain": [
       "<Figure size 432x288 with 1 Axes>"
      ]
     },
     "metadata": {},
     "output_type": "display_data"
    }
   ],
   "source": [
    "plt.plot(history.history['val_loss'], label='val_loss')\n",
    "plt.plot(history.history['loss'], label='loss')\n",
    "plt.legend()"
   ]
  },
  {
   "cell_type": "markdown",
   "metadata": {},
   "source": [
    "## Exercises\n",
    "\n",
    "### Hyper parameters settings\n",
    "\n",
    "- Experiment with different hyper parameters:\n",
    "  - learning rate used by the optimiser,\n",
    "  - change to a different optimiser (ADAM is a good choice),\n",
    "  - size of the hidden layer,\n",
    "  - weight initialization scheme,\n",
    "  - use other activation functions,\n",
    "  - add support for a second, third, n-th hidden layer,\n",
    "  - checkout the `callback` argument to `fit`.\n",
    "- How high can you get your accuracy? (test or train?)\n",
    "- Create an imbalanced dataset where one category has 10x as many samples as the other category. What accuracy can you achieve? Is it impressive?\n",
    "- What happens when you reduce the number of training samples?\n",
    "- Can you train only on the even numbers and then correctly classify the odd number as well as the even numbers?\n",
    "- What happens to the classification accuracy if you add a bit of noise to each image?\n",
    "- How should you decide for how many epochs to train?\n",
    "\n",
    "To find how to change the optimiser and set parameters on it, weight initialisations, and\n",
    "all that make sure to browse the [keras documentation](https://keras.io/models/model/).\n",
    "\n",
    "You can also look at the interactive documentation by writing any Python object you want to see the documentation for in a new notebook cell and placing a question mark after it. For example to learn more about `model.compile` write `model.compile?` in a new cell and run it.\n",
    "\n",
    "Make sure to frequently restart your kernel and run everything from the top. The notebook\n",
    "interface allows you to run cells in any order which is nice for exploration and interactive\n",
    "work but does mean sometimes your kernel ends up in a weird state. \"Restart&run all\" is a best practice when using notebooks."
   ]
  },
  {
   "cell_type": "code",
   "execution_count": null,
   "metadata": {},
   "outputs": [],
   "source": []
  }
 ],
 "metadata": {
  "kernel_info": {
   "name": "python3"
  },
  "kernelspec": {
   "display_name": "Python 3",
   "language": "python",
   "name": "python3"
  },
  "language_info": {
   "codemirror_mode": {
    "name": "ipython",
    "version": 3
   },
   "file_extension": ".py",
   "mimetype": "text/x-python",
   "name": "python",
   "nbconvert_exporter": "python",
   "pygments_lexer": "ipython3",
   "version": "3.6.5"
  },
  "nteract": {
   "version": "0.8.4"
  }
 },
 "nbformat": 4,
 "nbformat_minor": 2
}
